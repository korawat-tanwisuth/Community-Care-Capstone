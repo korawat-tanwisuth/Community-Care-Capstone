{
 "cells": [
  {
   "cell_type": "code",
   "execution_count": 1,
   "metadata": {},
   "outputs": [
    {
     "name": "stdout",
     "output_type": "stream",
     "text": [
      "Populating the interactive namespace from numpy and matplotlib\n"
     ]
    }
   ],
   "source": [
    "import pandas as pd\n",
    "import numpy as np\n",
    "from scipy import stats\n",
    "from datetime import datetime\n",
    "from itertools import combinations\n",
    "import matplotlib.pyplot as plt\n",
    "import re\n",
    "import warnings\n",
    "warnings.filterwarnings('ignore')\n",
    "%pylab inline"
   ]
  },
  {
   "cell_type": "code",
   "execution_count": 2,
   "metadata": {},
   "outputs": [],
   "source": [
    "df_raw = pd.read_csv('data/historical_update.csv')"
   ]
  },
  {
   "cell_type": "markdown",
   "metadata": {},
   "source": [
    "## general info"
   ]
  },
  {
   "cell_type": "code",
   "execution_count": 3,
   "metadata": {},
   "outputs": [
    {
     "data": {
      "text/plain": [
       "(393969, 24)"
      ]
     },
     "execution_count": 3,
     "metadata": {},
     "output_type": "execute_result"
    }
   ],
   "source": [
    "df_raw.shape"
   ]
  },
  {
   "cell_type": "code",
   "execution_count": 4,
   "metadata": {
    "scrolled": false
   },
   "outputs": [
    {
     "data": {
      "text/html": [
       "<div>\n",
       "<style scoped>\n",
       "    .dataframe tbody tr th:only-of-type {\n",
       "        vertical-align: middle;\n",
       "    }\n",
       "\n",
       "    .dataframe tbody tr th {\n",
       "        vertical-align: top;\n",
       "    }\n",
       "\n",
       "    .dataframe thead th {\n",
       "        text-align: right;\n",
       "    }\n",
       "</style>\n",
       "<table border=\"1\" class=\"dataframe\">\n",
       "  <thead>\n",
       "    <tr style=\"text-align: right;\">\n",
       "      <th></th>\n",
       "      <th>person_id</th>\n",
       "      <th>Age_at_visit</th>\n",
       "      <th>patient_city</th>\n",
       "      <th>patient_county</th>\n",
       "      <th>patient_zipcode</th>\n",
       "      <th>hospital_poc</th>\n",
       "      <th>Hospital_visit_date</th>\n",
       "      <th>discharge_date</th>\n",
       "      <th>encounter_type</th>\n",
       "      <th>diagnosis_code</th>\n",
       "      <th>dianosis_description</th>\n",
       "      <th>diagnosis_sequence</th>\n",
       "    </tr>\n",
       "  </thead>\n",
       "  <tbody>\n",
       "    <tr>\n",
       "      <th>0</th>\n",
       "      <td>0000FA93-BB4B-44AE-B8C0-A136AB196B9F</td>\n",
       "      <td>36</td>\n",
       "      <td>AUSTIN</td>\n",
       "      <td>Travis</td>\n",
       "      <td>78754</td>\n",
       "      <td>Brackenridge Hospital</td>\n",
       "      <td>2013-12-06 00:00:00</td>\n",
       "      <td>2013-12-13 18:07:00</td>\n",
       "      <td>Inpatient</td>\n",
       "      <td>860</td>\n",
       "      <td>TRAUM PNEUMOTHORAX-CLOSE</td>\n",
       "      <td>4.0</td>\n",
       "    </tr>\n",
       "    <tr>\n",
       "      <th>1</th>\n",
       "      <td>0000FA93-BB4B-44AE-B8C0-A136AB196B9F</td>\n",
       "      <td>40</td>\n",
       "      <td>AUSTIN</td>\n",
       "      <td>Travis</td>\n",
       "      <td>78754</td>\n",
       "      <td>Brackenridge Hospital</td>\n",
       "      <td>2017-05-05 00:00:00</td>\n",
       "      <td>2017-05-05 14:23:00</td>\n",
       "      <td>Emergency Room</td>\n",
       "      <td>R42</td>\n",
       "      <td>Dizziness and giddiness</td>\n",
       "      <td>2.0</td>\n",
       "    </tr>\n",
       "    <tr>\n",
       "      <th>2</th>\n",
       "      <td>000168EA-BC74-4035-B5A6-C92163F8CE62</td>\n",
       "      <td>22</td>\n",
       "      <td>Austin</td>\n",
       "      <td>Travis</td>\n",
       "      <td>78744</td>\n",
       "      <td>Seton Northwest</td>\n",
       "      <td>2016-11-22 00:00:00</td>\n",
       "      <td>2016-11-24 10:00:00</td>\n",
       "      <td>Inpatient</td>\n",
       "      <td>Z37.0</td>\n",
       "      <td>Single live birth</td>\n",
       "      <td>2.0</td>\n",
       "    </tr>\n",
       "    <tr>\n",
       "      <th>3</th>\n",
       "      <td>000168EA-BC74-4035-B5A6-C92163F8CE62</td>\n",
       "      <td>23</td>\n",
       "      <td>Austin</td>\n",
       "      <td>Travis</td>\n",
       "      <td>78744</td>\n",
       "      <td>Seton Southwest</td>\n",
       "      <td>2017-03-18 00:00:00</td>\n",
       "      <td>NaN</td>\n",
       "      <td>Emergency Room</td>\n",
       "      <td>G89.18</td>\n",
       "      <td>Other acute postprocedural pain</td>\n",
       "      <td>1.0</td>\n",
       "    </tr>\n",
       "    <tr>\n",
       "      <th>4</th>\n",
       "      <td>000168EA-BC74-4035-B5A6-C92163F8CE62</td>\n",
       "      <td>23</td>\n",
       "      <td>Austin</td>\n",
       "      <td>Travis</td>\n",
       "      <td>78744</td>\n",
       "      <td>Seton Southwest</td>\n",
       "      <td>2017-03-12 00:00:00</td>\n",
       "      <td>NaN</td>\n",
       "      <td>Emergency Room</td>\n",
       "      <td>L53.9</td>\n",
       "      <td>Erythematous condition,  unspecified</td>\n",
       "      <td>3.0</td>\n",
       "    </tr>\n",
       "  </tbody>\n",
       "</table>\n",
       "</div>"
      ],
      "text/plain": [
       "                              person_id  Age_at_visit patient_city  \\\n",
       "0  0000FA93-BB4B-44AE-B8C0-A136AB196B9F            36       AUSTIN   \n",
       "1  0000FA93-BB4B-44AE-B8C0-A136AB196B9F            40       AUSTIN   \n",
       "2  000168EA-BC74-4035-B5A6-C92163F8CE62            22       Austin   \n",
       "3  000168EA-BC74-4035-B5A6-C92163F8CE62            23       Austin   \n",
       "4  000168EA-BC74-4035-B5A6-C92163F8CE62            23       Austin   \n",
       "\n",
       "  patient_county  patient_zipcode           hospital_poc  Hospital_visit_date  \\\n",
       "0         Travis            78754  Brackenridge Hospital  2013-12-06 00:00:00   \n",
       "1         Travis            78754  Brackenridge Hospital  2017-05-05 00:00:00   \n",
       "2         Travis            78744        Seton Northwest  2016-11-22 00:00:00   \n",
       "3         Travis            78744        Seton Southwest  2017-03-18 00:00:00   \n",
       "4         Travis            78744        Seton Southwest  2017-03-12 00:00:00   \n",
       "\n",
       "        discharge_date  encounter_type diagnosis_code  \\\n",
       "0  2013-12-13 18:07:00       Inpatient            860   \n",
       "1  2017-05-05 14:23:00  Emergency Room            R42   \n",
       "2  2016-11-24 10:00:00       Inpatient          Z37.0   \n",
       "3                  NaN  Emergency Room         G89.18   \n",
       "4                  NaN  Emergency Room          L53.9   \n",
       "\n",
       "                   dianosis_description  diagnosis_sequence  \n",
       "0              TRAUM PNEUMOTHORAX-CLOSE                 4.0  \n",
       "1               Dizziness and giddiness                 2.0  \n",
       "2                     Single live birth                 2.0  \n",
       "3       Other acute postprocedural pain                 1.0  \n",
       "4  Erythematous condition,  unspecified                 3.0  "
      ]
     },
     "execution_count": 4,
     "metadata": {},
     "output_type": "execute_result"
    }
   ],
   "source": [
    "df_raw.iloc[:,:12].head()"
   ]
  },
  {
   "cell_type": "code",
   "execution_count": 5,
   "metadata": {},
   "outputs": [
    {
     "data": {
      "text/html": [
       "<div>\n",
       "<style scoped>\n",
       "    .dataframe tbody tr th:only-of-type {\n",
       "        vertical-align: middle;\n",
       "    }\n",
       "\n",
       "    .dataframe tbody tr th {\n",
       "        vertical-align: top;\n",
       "    }\n",
       "\n",
       "    .dataframe thead th {\n",
       "        text-align: right;\n",
       "    }\n",
       "</style>\n",
       "<table border=\"1\" class=\"dataframe\">\n",
       "  <thead>\n",
       "    <tr style=\"text-align: right;\">\n",
       "      <th></th>\n",
       "      <th>payor_name</th>\n",
       "      <th>last community care location</th>\n",
       "      <th>last community care visit date</th>\n",
       "      <th>ethnicity</th>\n",
       "      <th>language</th>\n",
       "      <th>uds ethnicity</th>\n",
       "      <th>uds race</th>\n",
       "      <th>uds homless</th>\n",
       "      <th>LACE L score</th>\n",
       "      <th>LACE A score</th>\n",
       "      <th>LACE E score</th>\n",
       "      <th>Total LACE score</th>\n",
       "    </tr>\n",
       "  </thead>\n",
       "  <tbody>\n",
       "    <tr>\n",
       "      <th>0</th>\n",
       "      <td>Unknown</td>\n",
       "      <td>CUC North Central</td>\n",
       "      <td>2017-03-29 00:00:00</td>\n",
       "      <td>Not Hispanic Or Latino</td>\n",
       "      <td>English</td>\n",
       "      <td>NaN</td>\n",
       "      <td>NaN</td>\n",
       "      <td>Not Homeless</td>\n",
       "      <td>0</td>\n",
       "      <td>0</td>\n",
       "      <td>1</td>\n",
       "      <td>1</td>\n",
       "    </tr>\n",
       "    <tr>\n",
       "      <th>1</th>\n",
       "      <td>Self Pay_SFS</td>\n",
       "      <td>CUC North Central</td>\n",
       "      <td>2017-03-29 00:00:00</td>\n",
       "      <td>Not Hispanic Or Latino</td>\n",
       "      <td>English</td>\n",
       "      <td>NaN</td>\n",
       "      <td>NaN</td>\n",
       "      <td>Not Homeless</td>\n",
       "      <td>0</td>\n",
       "      <td>0</td>\n",
       "      <td>1</td>\n",
       "      <td>1</td>\n",
       "    </tr>\n",
       "    <tr>\n",
       "      <th>2</th>\n",
       "      <td>Medicaid</td>\n",
       "      <td>CUC SEHWC</td>\n",
       "      <td>2017-09-06 00:00:00</td>\n",
       "      <td>Not Hispanic Or Latino</td>\n",
       "      <td>English</td>\n",
       "      <td>NaN</td>\n",
       "      <td>NaN</td>\n",
       "      <td>Shelter</td>\n",
       "      <td>2</td>\n",
       "      <td>3</td>\n",
       "      <td>2</td>\n",
       "      <td>7</td>\n",
       "    </tr>\n",
       "    <tr>\n",
       "      <th>3</th>\n",
       "      <td>Medicaid</td>\n",
       "      <td>CUC SEHWC</td>\n",
       "      <td>2017-09-06 00:00:00</td>\n",
       "      <td>Not Hispanic Or Latino</td>\n",
       "      <td>English</td>\n",
       "      <td>NaN</td>\n",
       "      <td>NaN</td>\n",
       "      <td>Shelter</td>\n",
       "      <td>0</td>\n",
       "      <td>3</td>\n",
       "      <td>2</td>\n",
       "      <td>5</td>\n",
       "    </tr>\n",
       "    <tr>\n",
       "      <th>4</th>\n",
       "      <td>Medicaid</td>\n",
       "      <td>CUC SEHWC</td>\n",
       "      <td>2017-09-06 00:00:00</td>\n",
       "      <td>Not Hispanic Or Latino</td>\n",
       "      <td>English</td>\n",
       "      <td>NaN</td>\n",
       "      <td>NaN</td>\n",
       "      <td>Shelter</td>\n",
       "      <td>2</td>\n",
       "      <td>3</td>\n",
       "      <td>2</td>\n",
       "      <td>7</td>\n",
       "    </tr>\n",
       "  </tbody>\n",
       "</table>\n",
       "</div>"
      ],
      "text/plain": [
       "     payor_name last community care location last community care visit date  \\\n",
       "0       Unknown            CUC North Central            2017-03-29 00:00:00   \n",
       "1  Self Pay_SFS            CUC North Central            2017-03-29 00:00:00   \n",
       "2      Medicaid                    CUC SEHWC            2017-09-06 00:00:00   \n",
       "3      Medicaid                    CUC SEHWC            2017-09-06 00:00:00   \n",
       "4      Medicaid                    CUC SEHWC            2017-09-06 00:00:00   \n",
       "\n",
       "                ethnicity language uds ethnicity uds race   uds homless  \\\n",
       "0  Not Hispanic Or Latino  English           NaN      NaN  Not Homeless   \n",
       "1  Not Hispanic Or Latino  English           NaN      NaN  Not Homeless   \n",
       "2  Not Hispanic Or Latino  English           NaN      NaN       Shelter   \n",
       "3  Not Hispanic Or Latino  English           NaN      NaN       Shelter   \n",
       "4  Not Hispanic Or Latino  English           NaN      NaN       Shelter   \n",
       "\n",
       "   LACE L score  LACE A score  LACE E score  Total LACE score  \n",
       "0             0             0             1                 1  \n",
       "1             0             0             1                 1  \n",
       "2             2             3             2                 7  \n",
       "3             0             3             2                 5  \n",
       "4             2             3             2                 7  "
      ]
     },
     "execution_count": 5,
     "metadata": {},
     "output_type": "execute_result"
    }
   ],
   "source": [
    "df_raw.iloc[:,12:].head()"
   ]
  },
  {
   "cell_type": "markdown",
   "metadata": {},
   "source": [
    "**check if any duplicates**"
   ]
  },
  {
   "cell_type": "code",
   "execution_count": 6,
   "metadata": {
    "scrolled": true
   },
   "outputs": [
    {
     "data": {
      "text/plain": [
       "(384238, 24)"
      ]
     },
     "execution_count": 6,
     "metadata": {},
     "output_type": "execute_result"
    }
   ],
   "source": [
    "df_raw.drop_duplicates().shape"
   ]
  },
  {
   "cell_type": "code",
   "execution_count": 7,
   "metadata": {},
   "outputs": [],
   "source": [
    "df_raw = df_raw.drop_duplicates()"
   ]
  },
  {
   "cell_type": "markdown",
   "metadata": {},
   "source": [
    "## Data types"
   ]
  },
  {
   "cell_type": "code",
   "execution_count": 8,
   "metadata": {},
   "outputs": [
    {
     "data": {
      "text/plain": [
       "person_id                          object\n",
       "Age_at_visit                        int64\n",
       "patient_city                       object\n",
       "patient_county                     object\n",
       "patient_zipcode                     int64\n",
       "hospital_poc                       object\n",
       "Hospital_visit_date                object\n",
       "discharge_date                     object\n",
       "encounter_type                     object\n",
       "diagnosis_code                     object\n",
       "dianosis_description               object\n",
       "diagnosis_sequence                float64\n",
       "payor_name                         object\n",
       "last community care location       object\n",
       "last community care visit date     object\n",
       "ethnicity                          object\n",
       "language                           object\n",
       "uds ethnicity                      object\n",
       "uds race                           object\n",
       "uds homless                        object\n",
       "LACE L score                        int64\n",
       "LACE A score                        int64\n",
       "LACE E score                        int64\n",
       "Total LACE score                    int64\n",
       "dtype: object"
      ]
     },
     "execution_count": 8,
     "metadata": {},
     "output_type": "execute_result"
    }
   ],
   "source": [
    "df_raw.dtypes"
   ]
  },
  {
   "cell_type": "markdown",
   "metadata": {},
   "source": [
    "**`Hospital_visit_date`, `discharge_date`, `last community care visit date` are not in `datetime` format.**"
   ]
  },
  {
   "cell_type": "code",
   "execution_count": 9,
   "metadata": {},
   "outputs": [],
   "source": [
    "df_raw['Hospital_visit_date'] = pd.to_datetime(df_raw['Hospital_visit_date'])\n",
    "df_raw['discharge_date'] = pd.to_datetime(df_raw['discharge_date'])\n",
    "df_raw['last community care visit date'] = pd.to_datetime(df_raw['last community care visit date'])"
   ]
  },
  {
   "cell_type": "markdown",
   "metadata": {},
   "source": [
    "## Re-order dataframe"
   ]
  },
  {
   "cell_type": "markdown",
   "metadata": {},
   "source": [
    "**sort raw dataframe by `person_id`, `Hospital_visit_date` and `dianosis_seq`**"
   ]
  },
  {
   "cell_type": "code",
   "execution_count": 10,
   "metadata": {},
   "outputs": [],
   "source": [
    "df_raw_sorted = df_raw.sort_values(by = ['person_id', 'Hospital_visit_date','diagnosis_sequence'])"
   ]
  },
  {
   "cell_type": "code",
   "execution_count": 11,
   "metadata": {},
   "outputs": [
    {
     "data": {
      "text/html": [
       "<div>\n",
       "<style scoped>\n",
       "    .dataframe tbody tr th:only-of-type {\n",
       "        vertical-align: middle;\n",
       "    }\n",
       "\n",
       "    .dataframe tbody tr th {\n",
       "        vertical-align: top;\n",
       "    }\n",
       "\n",
       "    .dataframe thead th {\n",
       "        text-align: right;\n",
       "    }\n",
       "</style>\n",
       "<table border=\"1\" class=\"dataframe\">\n",
       "  <thead>\n",
       "    <tr style=\"text-align: right;\">\n",
       "      <th></th>\n",
       "      <th>person_id</th>\n",
       "      <th>Age_at_visit</th>\n",
       "      <th>patient_city</th>\n",
       "      <th>patient_county</th>\n",
       "      <th>patient_zipcode</th>\n",
       "      <th>hospital_poc</th>\n",
       "      <th>Hospital_visit_date</th>\n",
       "      <th>discharge_date</th>\n",
       "      <th>encounter_type</th>\n",
       "      <th>diagnosis_code</th>\n",
       "      <th>dianosis_description</th>\n",
       "      <th>diagnosis_sequence</th>\n",
       "    </tr>\n",
       "  </thead>\n",
       "  <tbody>\n",
       "    <tr>\n",
       "      <th>0</th>\n",
       "      <td>0000FA93-BB4B-44AE-B8C0-A136AB196B9F</td>\n",
       "      <td>36</td>\n",
       "      <td>AUSTIN</td>\n",
       "      <td>Travis</td>\n",
       "      <td>78754</td>\n",
       "      <td>Brackenridge Hospital</td>\n",
       "      <td>2013-12-06</td>\n",
       "      <td>2013-12-13 18:07:00</td>\n",
       "      <td>Inpatient</td>\n",
       "      <td>860</td>\n",
       "      <td>TRAUM PNEUMOTHORAX-CLOSE</td>\n",
       "      <td>4.0</td>\n",
       "    </tr>\n",
       "    <tr>\n",
       "      <th>1</th>\n",
       "      <td>0000FA93-BB4B-44AE-B8C0-A136AB196B9F</td>\n",
       "      <td>40</td>\n",
       "      <td>AUSTIN</td>\n",
       "      <td>Travis</td>\n",
       "      <td>78754</td>\n",
       "      <td>Brackenridge Hospital</td>\n",
       "      <td>2017-05-05</td>\n",
       "      <td>2017-05-05 14:23:00</td>\n",
       "      <td>Emergency Room</td>\n",
       "      <td>R42</td>\n",
       "      <td>Dizziness and giddiness</td>\n",
       "      <td>2.0</td>\n",
       "    </tr>\n",
       "    <tr>\n",
       "      <th>2</th>\n",
       "      <td>000168EA-BC74-4035-B5A6-C92163F8CE62</td>\n",
       "      <td>22</td>\n",
       "      <td>Austin</td>\n",
       "      <td>Travis</td>\n",
       "      <td>78744</td>\n",
       "      <td>Seton Northwest</td>\n",
       "      <td>2016-11-22</td>\n",
       "      <td>2016-11-24 10:00:00</td>\n",
       "      <td>Inpatient</td>\n",
       "      <td>Z37.0</td>\n",
       "      <td>Single live birth</td>\n",
       "      <td>2.0</td>\n",
       "    </tr>\n",
       "    <tr>\n",
       "      <th>5</th>\n",
       "      <td>000168EA-BC74-4035-B5A6-C92163F8CE62</td>\n",
       "      <td>22</td>\n",
       "      <td>Austin</td>\n",
       "      <td>Travis</td>\n",
       "      <td>78744</td>\n",
       "      <td>Seton Northwest</td>\n",
       "      <td>2016-11-22</td>\n",
       "      <td>2016-11-24 10:00:00</td>\n",
       "      <td>Inpatient</td>\n",
       "      <td>Z37.0</td>\n",
       "      <td>Single live birth</td>\n",
       "      <td>2.0</td>\n",
       "    </tr>\n",
       "    <tr>\n",
       "      <th>4</th>\n",
       "      <td>000168EA-BC74-4035-B5A6-C92163F8CE62</td>\n",
       "      <td>23</td>\n",
       "      <td>Austin</td>\n",
       "      <td>Travis</td>\n",
       "      <td>78744</td>\n",
       "      <td>Seton Southwest</td>\n",
       "      <td>2017-03-12</td>\n",
       "      <td>NaT</td>\n",
       "      <td>Emergency Room</td>\n",
       "      <td>L53.9</td>\n",
       "      <td>Erythematous condition,  unspecified</td>\n",
       "      <td>3.0</td>\n",
       "    </tr>\n",
       "  </tbody>\n",
       "</table>\n",
       "</div>"
      ],
      "text/plain": [
       "                              person_id  Age_at_visit patient_city  \\\n",
       "0  0000FA93-BB4B-44AE-B8C0-A136AB196B9F            36       AUSTIN   \n",
       "1  0000FA93-BB4B-44AE-B8C0-A136AB196B9F            40       AUSTIN   \n",
       "2  000168EA-BC74-4035-B5A6-C92163F8CE62            22       Austin   \n",
       "5  000168EA-BC74-4035-B5A6-C92163F8CE62            22       Austin   \n",
       "4  000168EA-BC74-4035-B5A6-C92163F8CE62            23       Austin   \n",
       "\n",
       "  patient_county  patient_zipcode           hospital_poc Hospital_visit_date  \\\n",
       "0         Travis            78754  Brackenridge Hospital          2013-12-06   \n",
       "1         Travis            78754  Brackenridge Hospital          2017-05-05   \n",
       "2         Travis            78744        Seton Northwest          2016-11-22   \n",
       "5         Travis            78744        Seton Northwest          2016-11-22   \n",
       "4         Travis            78744        Seton Southwest          2017-03-12   \n",
       "\n",
       "       discharge_date  encounter_type diagnosis_code  \\\n",
       "0 2013-12-13 18:07:00       Inpatient            860   \n",
       "1 2017-05-05 14:23:00  Emergency Room            R42   \n",
       "2 2016-11-24 10:00:00       Inpatient          Z37.0   \n",
       "5 2016-11-24 10:00:00       Inpatient          Z37.0   \n",
       "4                 NaT  Emergency Room          L53.9   \n",
       "\n",
       "                   dianosis_description  diagnosis_sequence  \n",
       "0              TRAUM PNEUMOTHORAX-CLOSE                 4.0  \n",
       "1               Dizziness and giddiness                 2.0  \n",
       "2                     Single live birth                 2.0  \n",
       "5                     Single live birth                 2.0  \n",
       "4  Erythematous condition,  unspecified                 3.0  "
      ]
     },
     "execution_count": 11,
     "metadata": {},
     "output_type": "execute_result"
    }
   ],
   "source": [
    "df_raw_sorted.iloc[:,:12].head()"
   ]
  },
  {
   "cell_type": "code",
   "execution_count": 12,
   "metadata": {
    "scrolled": true
   },
   "outputs": [
    {
     "data": {
      "text/html": [
       "<div>\n",
       "<style scoped>\n",
       "    .dataframe tbody tr th:only-of-type {\n",
       "        vertical-align: middle;\n",
       "    }\n",
       "\n",
       "    .dataframe tbody tr th {\n",
       "        vertical-align: top;\n",
       "    }\n",
       "\n",
       "    .dataframe thead th {\n",
       "        text-align: right;\n",
       "    }\n",
       "</style>\n",
       "<table border=\"1\" class=\"dataframe\">\n",
       "  <thead>\n",
       "    <tr style=\"text-align: right;\">\n",
       "      <th></th>\n",
       "      <th>payor_name</th>\n",
       "      <th>last community care location</th>\n",
       "      <th>last community care visit date</th>\n",
       "      <th>ethnicity</th>\n",
       "      <th>language</th>\n",
       "      <th>uds ethnicity</th>\n",
       "      <th>uds race</th>\n",
       "      <th>uds homless</th>\n",
       "      <th>LACE L score</th>\n",
       "      <th>LACE A score</th>\n",
       "      <th>LACE E score</th>\n",
       "      <th>Total LACE score</th>\n",
       "    </tr>\n",
       "  </thead>\n",
       "  <tbody>\n",
       "    <tr>\n",
       "      <th>0</th>\n",
       "      <td>Unknown</td>\n",
       "      <td>CUC North Central</td>\n",
       "      <td>2017-03-29</td>\n",
       "      <td>Not Hispanic Or Latino</td>\n",
       "      <td>English</td>\n",
       "      <td>NaN</td>\n",
       "      <td>NaN</td>\n",
       "      <td>Not Homeless</td>\n",
       "      <td>0</td>\n",
       "      <td>0</td>\n",
       "      <td>1</td>\n",
       "      <td>1</td>\n",
       "    </tr>\n",
       "    <tr>\n",
       "      <th>1</th>\n",
       "      <td>Self Pay_SFS</td>\n",
       "      <td>CUC North Central</td>\n",
       "      <td>2017-03-29</td>\n",
       "      <td>Not Hispanic Or Latino</td>\n",
       "      <td>English</td>\n",
       "      <td>NaN</td>\n",
       "      <td>NaN</td>\n",
       "      <td>Not Homeless</td>\n",
       "      <td>0</td>\n",
       "      <td>0</td>\n",
       "      <td>1</td>\n",
       "      <td>1</td>\n",
       "    </tr>\n",
       "    <tr>\n",
       "      <th>2</th>\n",
       "      <td>Medicaid</td>\n",
       "      <td>CUC SEHWC</td>\n",
       "      <td>2017-09-06</td>\n",
       "      <td>Not Hispanic Or Latino</td>\n",
       "      <td>English</td>\n",
       "      <td>NaN</td>\n",
       "      <td>NaN</td>\n",
       "      <td>Shelter</td>\n",
       "      <td>2</td>\n",
       "      <td>3</td>\n",
       "      <td>2</td>\n",
       "      <td>7</td>\n",
       "    </tr>\n",
       "    <tr>\n",
       "      <th>5</th>\n",
       "      <td>Medicaid</td>\n",
       "      <td>CUC SEHWC</td>\n",
       "      <td>2017-09-06</td>\n",
       "      <td>Not Hispanic Or Latino</td>\n",
       "      <td>English</td>\n",
       "      <td>NaN</td>\n",
       "      <td>NaN</td>\n",
       "      <td>Shelter</td>\n",
       "      <td>0</td>\n",
       "      <td>3</td>\n",
       "      <td>2</td>\n",
       "      <td>5</td>\n",
       "    </tr>\n",
       "    <tr>\n",
       "      <th>4</th>\n",
       "      <td>Medicaid</td>\n",
       "      <td>CUC SEHWC</td>\n",
       "      <td>2017-09-06</td>\n",
       "      <td>Not Hispanic Or Latino</td>\n",
       "      <td>English</td>\n",
       "      <td>NaN</td>\n",
       "      <td>NaN</td>\n",
       "      <td>Shelter</td>\n",
       "      <td>2</td>\n",
       "      <td>3</td>\n",
       "      <td>2</td>\n",
       "      <td>7</td>\n",
       "    </tr>\n",
       "  </tbody>\n",
       "</table>\n",
       "</div>"
      ],
      "text/plain": [
       "     payor_name last community care location last community care visit date  \\\n",
       "0       Unknown            CUC North Central                     2017-03-29   \n",
       "1  Self Pay_SFS            CUC North Central                     2017-03-29   \n",
       "2      Medicaid                    CUC SEHWC                     2017-09-06   \n",
       "5      Medicaid                    CUC SEHWC                     2017-09-06   \n",
       "4      Medicaid                    CUC SEHWC                     2017-09-06   \n",
       "\n",
       "                ethnicity language uds ethnicity uds race   uds homless  \\\n",
       "0  Not Hispanic Or Latino  English           NaN      NaN  Not Homeless   \n",
       "1  Not Hispanic Or Latino  English           NaN      NaN  Not Homeless   \n",
       "2  Not Hispanic Or Latino  English           NaN      NaN       Shelter   \n",
       "5  Not Hispanic Or Latino  English           NaN      NaN       Shelter   \n",
       "4  Not Hispanic Or Latino  English           NaN      NaN       Shelter   \n",
       "\n",
       "   LACE L score  LACE A score  LACE E score  Total LACE score  \n",
       "0             0             0             1                 1  \n",
       "1             0             0             1                 1  \n",
       "2             2             3             2                 7  \n",
       "5             0             3             2                 5  \n",
       "4             2             3             2                 7  "
      ]
     },
     "execution_count": 12,
     "metadata": {},
     "output_type": "execute_result"
    }
   ],
   "source": [
    "df_raw_sorted.iloc[:,12:].head()"
   ]
  },
  {
   "cell_type": "markdown",
   "metadata": {},
   "source": [
    "**it seems like record 2 and 5 are exactly the same except for LACE score, try to group by `person_id`,`Hospital_visit_date`**"
   ]
  },
  {
   "cell_type": "markdown",
   "metadata": {},
   "source": [
    "## Inspect same day visit"
   ]
  },
  {
   "cell_type": "code",
   "execution_count": 13,
   "metadata": {},
   "outputs": [],
   "source": [
    "df_same_date = df_raw_sorted.groupby(['person_id','Hospital_visit_date','diagnosis_code'])[['Total LACE score']].count().reset_index()"
   ]
  },
  {
   "cell_type": "code",
   "execution_count": 14,
   "metadata": {},
   "outputs": [
    {
     "data": {
      "text/html": [
       "<div>\n",
       "<style scoped>\n",
       "    .dataframe tbody tr th:only-of-type {\n",
       "        vertical-align: middle;\n",
       "    }\n",
       "\n",
       "    .dataframe tbody tr th {\n",
       "        vertical-align: top;\n",
       "    }\n",
       "\n",
       "    .dataframe thead th {\n",
       "        text-align: right;\n",
       "    }\n",
       "</style>\n",
       "<table border=\"1\" class=\"dataframe\">\n",
       "  <thead>\n",
       "    <tr style=\"text-align: right;\">\n",
       "      <th></th>\n",
       "      <th>person_id</th>\n",
       "      <th>Hospital_visit_date</th>\n",
       "      <th>diagnosis_code</th>\n",
       "      <th>Total LACE score</th>\n",
       "    </tr>\n",
       "  </thead>\n",
       "  <tbody>\n",
       "    <tr>\n",
       "      <th>0</th>\n",
       "      <td>0000FA93-BB4B-44AE-B8C0-A136AB196B9F</td>\n",
       "      <td>2013-12-06</td>\n",
       "      <td>860</td>\n",
       "      <td>1</td>\n",
       "    </tr>\n",
       "    <tr>\n",
       "      <th>1</th>\n",
       "      <td>0000FA93-BB4B-44AE-B8C0-A136AB196B9F</td>\n",
       "      <td>2017-05-05</td>\n",
       "      <td>R42</td>\n",
       "      <td>1</td>\n",
       "    </tr>\n",
       "    <tr>\n",
       "      <th>2</th>\n",
       "      <td>000168EA-BC74-4035-B5A6-C92163F8CE62</td>\n",
       "      <td>2016-11-22</td>\n",
       "      <td>Z37.0</td>\n",
       "      <td>2</td>\n",
       "    </tr>\n",
       "    <tr>\n",
       "      <th>3</th>\n",
       "      <td>000168EA-BC74-4035-B5A6-C92163F8CE62</td>\n",
       "      <td>2017-03-12</td>\n",
       "      <td>L53.9</td>\n",
       "      <td>2</td>\n",
       "    </tr>\n",
       "    <tr>\n",
       "      <th>4</th>\n",
       "      <td>000168EA-BC74-4035-B5A6-C92163F8CE62</td>\n",
       "      <td>2017-03-18</td>\n",
       "      <td>G89.18</td>\n",
       "      <td>2</td>\n",
       "    </tr>\n",
       "  </tbody>\n",
       "</table>\n",
       "</div>"
      ],
      "text/plain": [
       "                              person_id Hospital_visit_date diagnosis_code  \\\n",
       "0  0000FA93-BB4B-44AE-B8C0-A136AB196B9F          2013-12-06            860   \n",
       "1  0000FA93-BB4B-44AE-B8C0-A136AB196B9F          2017-05-05            R42   \n",
       "2  000168EA-BC74-4035-B5A6-C92163F8CE62          2016-11-22          Z37.0   \n",
       "3  000168EA-BC74-4035-B5A6-C92163F8CE62          2017-03-12          L53.9   \n",
       "4  000168EA-BC74-4035-B5A6-C92163F8CE62          2017-03-18         G89.18   \n",
       "\n",
       "   Total LACE score  \n",
       "0                 1  \n",
       "1                 1  \n",
       "2                 2  \n",
       "3                 2  \n",
       "4                 2  "
      ]
     },
     "execution_count": 14,
     "metadata": {},
     "output_type": "execute_result"
    }
   ],
   "source": [
    "df_same_date.head()"
   ]
  },
  {
   "cell_type": "code",
   "execution_count": 15,
   "metadata": {},
   "outputs": [
    {
     "data": {
      "text/plain": [
       "1     128391\n",
       "2      56139\n",
       "3      18269\n",
       "4       7471\n",
       "5       4187\n",
       "6       1104\n",
       "7        456\n",
       "8         11\n",
       "10        10\n",
       "12         1\n",
       "9          1\n",
       "Name: Total LACE score, dtype: int64"
      ]
     },
     "execution_count": 15,
     "metadata": {},
     "output_type": "execute_result"
    }
   ],
   "source": [
    "df_same_date['Total LACE score'].value_counts()"
   ]
  },
  {
   "cell_type": "markdown",
   "metadata": {},
   "source": [
    "**there exists same day, same diagnosis visit with up to 12 records, let's take a look at it**"
   ]
  },
  {
   "cell_type": "code",
   "execution_count": 16,
   "metadata": {},
   "outputs": [
    {
     "data": {
      "text/html": [
       "<div>\n",
       "<style scoped>\n",
       "    .dataframe tbody tr th:only-of-type {\n",
       "        vertical-align: middle;\n",
       "    }\n",
       "\n",
       "    .dataframe tbody tr th {\n",
       "        vertical-align: top;\n",
       "    }\n",
       "\n",
       "    .dataframe thead th {\n",
       "        text-align: right;\n",
       "    }\n",
       "</style>\n",
       "<table border=\"1\" class=\"dataframe\">\n",
       "  <thead>\n",
       "    <tr style=\"text-align: right;\">\n",
       "      <th></th>\n",
       "      <th>person_id</th>\n",
       "      <th>Hospital_visit_date</th>\n",
       "      <th>diagnosis_code</th>\n",
       "      <th>Total LACE score</th>\n",
       "    </tr>\n",
       "  </thead>\n",
       "  <tbody>\n",
       "    <tr>\n",
       "      <th>165533</th>\n",
       "      <td>C4ECE685-7941-42A3-8372-0D45CFB29CBC</td>\n",
       "      <td>2017-04-26</td>\n",
       "      <td>F17.200</td>\n",
       "      <td>12</td>\n",
       "    </tr>\n",
       "  </tbody>\n",
       "</table>\n",
       "</div>"
      ],
      "text/plain": [
       "                                   person_id Hospital_visit_date  \\\n",
       "165533  C4ECE685-7941-42A3-8372-0D45CFB29CBC          2017-04-26   \n",
       "\n",
       "       diagnosis_code  Total LACE score  \n",
       "165533        F17.200                12  "
      ]
     },
     "execution_count": 16,
     "metadata": {},
     "output_type": "execute_result"
    }
   ],
   "source": [
    "df_same_date[df_same_date['Total LACE score'] == 12]"
   ]
  },
  {
   "cell_type": "code",
   "execution_count": 17,
   "metadata": {
    "scrolled": false
   },
   "outputs": [
    {
     "data": {
      "text/html": [
       "<div>\n",
       "<style scoped>\n",
       "    .dataframe tbody tr th:only-of-type {\n",
       "        vertical-align: middle;\n",
       "    }\n",
       "\n",
       "    .dataframe tbody tr th {\n",
       "        vertical-align: top;\n",
       "    }\n",
       "\n",
       "    .dataframe thead th {\n",
       "        text-align: right;\n",
       "    }\n",
       "</style>\n",
       "<table border=\"1\" class=\"dataframe\">\n",
       "  <thead>\n",
       "    <tr style=\"text-align: right;\">\n",
       "      <th></th>\n",
       "      <th>person_id</th>\n",
       "      <th>Hospital_visit_date</th>\n",
       "      <th>diagnosis_code</th>\n",
       "      <th>diagnosis_sequence</th>\n",
       "      <th>LACE L score</th>\n",
       "      <th>LACE A score</th>\n",
       "      <th>LACE E score</th>\n",
       "      <th>Total LACE score</th>\n",
       "    </tr>\n",
       "  </thead>\n",
       "  <tbody>\n",
       "    <tr>\n",
       "      <th>301857</th>\n",
       "      <td>C4ECE685-7941-42A3-8372-0D45CFB29CBC</td>\n",
       "      <td>2017-04-26</td>\n",
       "      <td>F17.200</td>\n",
       "      <td>2.0</td>\n",
       "      <td>2</td>\n",
       "      <td>3</td>\n",
       "      <td>4</td>\n",
       "      <td>9</td>\n",
       "    </tr>\n",
       "    <tr>\n",
       "      <th>301868</th>\n",
       "      <td>C4ECE685-7941-42A3-8372-0D45CFB29CBC</td>\n",
       "      <td>2017-04-26</td>\n",
       "      <td>F17.200</td>\n",
       "      <td>2.0</td>\n",
       "      <td>1</td>\n",
       "      <td>3</td>\n",
       "      <td>4</td>\n",
       "      <td>8</td>\n",
       "    </tr>\n",
       "    <tr>\n",
       "      <th>301869</th>\n",
       "      <td>C4ECE685-7941-42A3-8372-0D45CFB29CBC</td>\n",
       "      <td>2017-04-26</td>\n",
       "      <td>F17.200</td>\n",
       "      <td>2.0</td>\n",
       "      <td>0</td>\n",
       "      <td>3</td>\n",
       "      <td>4</td>\n",
       "      <td>7</td>\n",
       "    </tr>\n",
       "    <tr>\n",
       "      <th>301870</th>\n",
       "      <td>C4ECE685-7941-42A3-8372-0D45CFB29CBC</td>\n",
       "      <td>2017-04-26</td>\n",
       "      <td>F17.200</td>\n",
       "      <td>2.0</td>\n",
       "      <td>3</td>\n",
       "      <td>3</td>\n",
       "      <td>4</td>\n",
       "      <td>10</td>\n",
       "    </tr>\n",
       "    <tr>\n",
       "      <th>301885</th>\n",
       "      <td>C4ECE685-7941-42A3-8372-0D45CFB29CBC</td>\n",
       "      <td>2017-04-26</td>\n",
       "      <td>F17.200</td>\n",
       "      <td>2.0</td>\n",
       "      <td>0</td>\n",
       "      <td>3</td>\n",
       "      <td>4</td>\n",
       "      <td>7</td>\n",
       "    </tr>\n",
       "    <tr>\n",
       "      <th>301886</th>\n",
       "      <td>C4ECE685-7941-42A3-8372-0D45CFB29CBC</td>\n",
       "      <td>2017-04-26</td>\n",
       "      <td>F17.200</td>\n",
       "      <td>2.0</td>\n",
       "      <td>3</td>\n",
       "      <td>3</td>\n",
       "      <td>4</td>\n",
       "      <td>10</td>\n",
       "    </tr>\n",
       "    <tr>\n",
       "      <th>301888</th>\n",
       "      <td>C4ECE685-7941-42A3-8372-0D45CFB29CBC</td>\n",
       "      <td>2017-04-26</td>\n",
       "      <td>F17.200</td>\n",
       "      <td>2.0</td>\n",
       "      <td>2</td>\n",
       "      <td>3</td>\n",
       "      <td>4</td>\n",
       "      <td>9</td>\n",
       "    </tr>\n",
       "    <tr>\n",
       "      <th>301923</th>\n",
       "      <td>C4ECE685-7941-42A3-8372-0D45CFB29CBC</td>\n",
       "      <td>2017-04-26</td>\n",
       "      <td>F17.200</td>\n",
       "      <td>2.0</td>\n",
       "      <td>1</td>\n",
       "      <td>3</td>\n",
       "      <td>4</td>\n",
       "      <td>8</td>\n",
       "    </tr>\n",
       "    <tr>\n",
       "      <th>301867</th>\n",
       "      <td>C4ECE685-7941-42A3-8372-0D45CFB29CBC</td>\n",
       "      <td>2017-04-26</td>\n",
       "      <td>F17.200</td>\n",
       "      <td>3.0</td>\n",
       "      <td>3</td>\n",
       "      <td>3</td>\n",
       "      <td>4</td>\n",
       "      <td>10</td>\n",
       "    </tr>\n",
       "    <tr>\n",
       "      <th>301899</th>\n",
       "      <td>C4ECE685-7941-42A3-8372-0D45CFB29CBC</td>\n",
       "      <td>2017-04-26</td>\n",
       "      <td>F17.200</td>\n",
       "      <td>3.0</td>\n",
       "      <td>0</td>\n",
       "      <td>3</td>\n",
       "      <td>4</td>\n",
       "      <td>7</td>\n",
       "    </tr>\n",
       "    <tr>\n",
       "      <th>301906</th>\n",
       "      <td>C4ECE685-7941-42A3-8372-0D45CFB29CBC</td>\n",
       "      <td>2017-04-26</td>\n",
       "      <td>F17.200</td>\n",
       "      <td>3.0</td>\n",
       "      <td>2</td>\n",
       "      <td>3</td>\n",
       "      <td>4</td>\n",
       "      <td>9</td>\n",
       "    </tr>\n",
       "    <tr>\n",
       "      <th>301922</th>\n",
       "      <td>C4ECE685-7941-42A3-8372-0D45CFB29CBC</td>\n",
       "      <td>2017-04-26</td>\n",
       "      <td>F17.200</td>\n",
       "      <td>3.0</td>\n",
       "      <td>1</td>\n",
       "      <td>3</td>\n",
       "      <td>4</td>\n",
       "      <td>8</td>\n",
       "    </tr>\n",
       "  </tbody>\n",
       "</table>\n",
       "</div>"
      ],
      "text/plain": [
       "                                   person_id Hospital_visit_date  \\\n",
       "301857  C4ECE685-7941-42A3-8372-0D45CFB29CBC          2017-04-26   \n",
       "301868  C4ECE685-7941-42A3-8372-0D45CFB29CBC          2017-04-26   \n",
       "301869  C4ECE685-7941-42A3-8372-0D45CFB29CBC          2017-04-26   \n",
       "301870  C4ECE685-7941-42A3-8372-0D45CFB29CBC          2017-04-26   \n",
       "301885  C4ECE685-7941-42A3-8372-0D45CFB29CBC          2017-04-26   \n",
       "301886  C4ECE685-7941-42A3-8372-0D45CFB29CBC          2017-04-26   \n",
       "301888  C4ECE685-7941-42A3-8372-0D45CFB29CBC          2017-04-26   \n",
       "301923  C4ECE685-7941-42A3-8372-0D45CFB29CBC          2017-04-26   \n",
       "301867  C4ECE685-7941-42A3-8372-0D45CFB29CBC          2017-04-26   \n",
       "301899  C4ECE685-7941-42A3-8372-0D45CFB29CBC          2017-04-26   \n",
       "301906  C4ECE685-7941-42A3-8372-0D45CFB29CBC          2017-04-26   \n",
       "301922  C4ECE685-7941-42A3-8372-0D45CFB29CBC          2017-04-26   \n",
       "\n",
       "       diagnosis_code  diagnosis_sequence  LACE L score  LACE A score  \\\n",
       "301857        F17.200                 2.0             2             3   \n",
       "301868        F17.200                 2.0             1             3   \n",
       "301869        F17.200                 2.0             0             3   \n",
       "301870        F17.200                 2.0             3             3   \n",
       "301885        F17.200                 2.0             0             3   \n",
       "301886        F17.200                 2.0             3             3   \n",
       "301888        F17.200                 2.0             2             3   \n",
       "301923        F17.200                 2.0             1             3   \n",
       "301867        F17.200                 3.0             3             3   \n",
       "301899        F17.200                 3.0             0             3   \n",
       "301906        F17.200                 3.0             2             3   \n",
       "301922        F17.200                 3.0             1             3   \n",
       "\n",
       "        LACE E score  Total LACE score  \n",
       "301857             4                 9  \n",
       "301868             4                 8  \n",
       "301869             4                 7  \n",
       "301870             4                10  \n",
       "301885             4                 7  \n",
       "301886             4                10  \n",
       "301888             4                 9  \n",
       "301923             4                 8  \n",
       "301867             4                10  \n",
       "301899             4                 7  \n",
       "301906             4                 9  \n",
       "301922             4                 8  "
      ]
     },
     "execution_count": 17,
     "metadata": {},
     "output_type": "execute_result"
    }
   ],
   "source": [
    "df_raw_sorted[df_raw_sorted['person_id'] == 'C4ECE685-7941-42A3-8372-0D45CFB29CBC'][df_raw_sorted['diagnosis_code']=='F17.200'][['person_id','Hospital_visit_date','diagnosis_code','diagnosis_sequence','LACE L score','LACE A score','LACE E score','Total LACE score']]"
   ]
  },
  {
   "cell_type": "markdown",
   "metadata": {},
   "source": [
    "**as shown above, these 12 records account for same encounter (same patient same date same diagnosis) but 2 different diagnosis sequence and 4 differenct LACE score. To make sure the records does not contains duplicate like this, we decided to drop all the duplicated records and only keep the last one (which means we assume this is a data entry issue).**"
   ]
  },
  {
   "cell_type": "code",
   "execution_count": 18,
   "metadata": {
    "scrolled": false
   },
   "outputs": [
    {
     "data": {
      "text/plain": [
       "(232126, 24)"
      ]
     },
     "execution_count": 18,
     "metadata": {},
     "output_type": "execute_result"
    }
   ],
   "source": [
    "df_raw_sorted.drop_duplicates(subset=['person_id','Hospital_visit_date','diagnosis_code'],keep='last').shape"
   ]
  },
  {
   "cell_type": "code",
   "execution_count": 36,
   "metadata": {},
   "outputs": [],
   "source": [
    "df_clean = df_raw_sorted.drop_duplicates(subset=['person_id','Hospital_visit_date','diagnosis_code'],keep='last')"
   ]
  },
  {
   "cell_type": "markdown",
   "metadata": {},
   "source": [
    "### Excluding only admission (OA)"
   ]
  },
  {
   "cell_type": "code",
   "execution_count": 37,
   "metadata": {},
   "outputs": [],
   "source": [
    "df_clean_oa = df_clean.groupby(['person_id'])[['Hospital_visit_date']].count().reset_index()"
   ]
  },
  {
   "cell_type": "code",
   "execution_count": 38,
   "metadata": {},
   "outputs": [],
   "source": [
    "df_clean_oa.columns = ['person_id','admission_count']"
   ]
  },
  {
   "cell_type": "code",
   "execution_count": 39,
   "metadata": {},
   "outputs": [],
   "source": [
    "df_clean = df_clean.merge(df_clean_oa, on = 'person_id')"
   ]
  },
  {
   "cell_type": "code",
   "execution_count": 40,
   "metadata": {},
   "outputs": [],
   "source": [
    "df_clean = df_clean[df_clean.admission_count != 1]"
   ]
  },
  {
   "cell_type": "code",
   "execution_count": 41,
   "metadata": {},
   "outputs": [],
   "source": [
    "df_clean.loc[df_clean['discharge_date'].isnull(),'discharge_date'] = df_clean['Hospital_visit_date']"
   ]
  },
  {
   "cell_type": "markdown",
   "metadata": {},
   "source": [
    "## Get historical hospital visits (in past year)"
   ]
  },
  {
   "cell_type": "code",
   "execution_count": 44,
   "metadata": {},
   "outputs": [],
   "source": [
    "#CHANGED\n",
    "df_clean_same_date = df_clean.groupby(['person_id','Hospital_visit_date','encounter_type'])['Total LACE score'].count().reset_index().drop(['Total LACE score'],axis = 1)"
   ]
  },
  {
   "cell_type": "code",
   "execution_count": 45,
   "metadata": {},
   "outputs": [
    {
     "data": {
      "text/html": [
       "<div>\n",
       "<style scoped>\n",
       "    .dataframe tbody tr th:only-of-type {\n",
       "        vertical-align: middle;\n",
       "    }\n",
       "\n",
       "    .dataframe tbody tr th {\n",
       "        vertical-align: top;\n",
       "    }\n",
       "\n",
       "    .dataframe thead th {\n",
       "        text-align: right;\n",
       "    }\n",
       "</style>\n",
       "<table border=\"1\" class=\"dataframe\">\n",
       "  <thead>\n",
       "    <tr style=\"text-align: right;\">\n",
       "      <th></th>\n",
       "      <th>person_id</th>\n",
       "      <th>Hospital_visit_date</th>\n",
       "      <th>encounter_type</th>\n",
       "    </tr>\n",
       "  </thead>\n",
       "  <tbody>\n",
       "    <tr>\n",
       "      <th>0</th>\n",
       "      <td>0000FA93-BB4B-44AE-B8C0-A136AB196B9F</td>\n",
       "      <td>2013-12-06</td>\n",
       "      <td>Inpatient</td>\n",
       "    </tr>\n",
       "    <tr>\n",
       "      <th>1</th>\n",
       "      <td>0000FA93-BB4B-44AE-B8C0-A136AB196B9F</td>\n",
       "      <td>2017-05-05</td>\n",
       "      <td>Emergency Room</td>\n",
       "    </tr>\n",
       "    <tr>\n",
       "      <th>2</th>\n",
       "      <td>000168EA-BC74-4035-B5A6-C92163F8CE62</td>\n",
       "      <td>2016-11-22</td>\n",
       "      <td>Inpatient</td>\n",
       "    </tr>\n",
       "    <tr>\n",
       "      <th>3</th>\n",
       "      <td>000168EA-BC74-4035-B5A6-C92163F8CE62</td>\n",
       "      <td>2017-03-12</td>\n",
       "      <td>Emergency Room</td>\n",
       "    </tr>\n",
       "    <tr>\n",
       "      <th>4</th>\n",
       "      <td>000168EA-BC74-4035-B5A6-C92163F8CE62</td>\n",
       "      <td>2017-03-18</td>\n",
       "      <td>Emergency Room</td>\n",
       "    </tr>\n",
       "  </tbody>\n",
       "</table>\n",
       "</div>"
      ],
      "text/plain": [
       "                              person_id Hospital_visit_date  encounter_type\n",
       "0  0000FA93-BB4B-44AE-B8C0-A136AB196B9F          2013-12-06       Inpatient\n",
       "1  0000FA93-BB4B-44AE-B8C0-A136AB196B9F          2017-05-05  Emergency Room\n",
       "2  000168EA-BC74-4035-B5A6-C92163F8CE62          2016-11-22       Inpatient\n",
       "3  000168EA-BC74-4035-B5A6-C92163F8CE62          2017-03-12  Emergency Room\n",
       "4  000168EA-BC74-4035-B5A6-C92163F8CE62          2017-03-18  Emergency Room"
      ]
     },
     "execution_count": 45,
     "metadata": {},
     "output_type": "execute_result"
    }
   ],
   "source": [
    "df_clean_same_date.head()"
   ]
  },
  {
   "cell_type": "code",
   "execution_count": 46,
   "metadata": {
    "scrolled": true
   },
   "outputs": [],
   "source": [
    "#set visit date as index\n",
    "df_clean_same_date.set_index(pd.DatetimeIndex(df_clean_same_date['Hospital_visit_date']), inplace=True)\n",
    "df_clean_same_date.drop('Hospital_visit_date', axis = 1, inplace = True)"
   ]
  },
  {
   "cell_type": "code",
   "execution_count": 47,
   "metadata": {},
   "outputs": [],
   "source": [
    "df_clean_same_date['count'] = 1"
   ]
  },
  {
   "cell_type": "code",
   "execution_count": 48,
   "metadata": {},
   "outputs": [
    {
     "data": {
      "text/html": [
       "<div>\n",
       "<style scoped>\n",
       "    .dataframe tbody tr th:only-of-type {\n",
       "        vertical-align: middle;\n",
       "    }\n",
       "\n",
       "    .dataframe tbody tr th {\n",
       "        vertical-align: top;\n",
       "    }\n",
       "\n",
       "    .dataframe thead th {\n",
       "        text-align: right;\n",
       "    }\n",
       "</style>\n",
       "<table border=\"1\" class=\"dataframe\">\n",
       "  <thead>\n",
       "    <tr style=\"text-align: right;\">\n",
       "      <th></th>\n",
       "      <th>person_id</th>\n",
       "      <th>encounter_type</th>\n",
       "      <th>count</th>\n",
       "    </tr>\n",
       "    <tr>\n",
       "      <th>Hospital_visit_date</th>\n",
       "      <th></th>\n",
       "      <th></th>\n",
       "      <th></th>\n",
       "    </tr>\n",
       "  </thead>\n",
       "  <tbody>\n",
       "    <tr>\n",
       "      <th>2013-12-06</th>\n",
       "      <td>0000FA93-BB4B-44AE-B8C0-A136AB196B9F</td>\n",
       "      <td>Inpatient</td>\n",
       "      <td>1</td>\n",
       "    </tr>\n",
       "    <tr>\n",
       "      <th>2017-05-05</th>\n",
       "      <td>0000FA93-BB4B-44AE-B8C0-A136AB196B9F</td>\n",
       "      <td>Emergency Room</td>\n",
       "      <td>1</td>\n",
       "    </tr>\n",
       "    <tr>\n",
       "      <th>2016-11-22</th>\n",
       "      <td>000168EA-BC74-4035-B5A6-C92163F8CE62</td>\n",
       "      <td>Inpatient</td>\n",
       "      <td>1</td>\n",
       "    </tr>\n",
       "    <tr>\n",
       "      <th>2017-03-12</th>\n",
       "      <td>000168EA-BC74-4035-B5A6-C92163F8CE62</td>\n",
       "      <td>Emergency Room</td>\n",
       "      <td>1</td>\n",
       "    </tr>\n",
       "    <tr>\n",
       "      <th>2017-03-18</th>\n",
       "      <td>000168EA-BC74-4035-B5A6-C92163F8CE62</td>\n",
       "      <td>Emergency Room</td>\n",
       "      <td>1</td>\n",
       "    </tr>\n",
       "  </tbody>\n",
       "</table>\n",
       "</div>"
      ],
      "text/plain": [
       "                                                person_id  encounter_type  \\\n",
       "Hospital_visit_date                                                         \n",
       "2013-12-06           0000FA93-BB4B-44AE-B8C0-A136AB196B9F       Inpatient   \n",
       "2017-05-05           0000FA93-BB4B-44AE-B8C0-A136AB196B9F  Emergency Room   \n",
       "2016-11-22           000168EA-BC74-4035-B5A6-C92163F8CE62       Inpatient   \n",
       "2017-03-12           000168EA-BC74-4035-B5A6-C92163F8CE62  Emergency Room   \n",
       "2017-03-18           000168EA-BC74-4035-B5A6-C92163F8CE62  Emergency Room   \n",
       "\n",
       "                     count  \n",
       "Hospital_visit_date         \n",
       "2013-12-06               1  \n",
       "2017-05-05               1  \n",
       "2016-11-22               1  \n",
       "2017-03-12               1  \n",
       "2017-03-18               1  "
      ]
     },
     "execution_count": 48,
     "metadata": {},
     "output_type": "execute_result"
    }
   ],
   "source": [
    "df_clean_same_date.head()"
   ]
  },
  {
   "cell_type": "code",
   "execution_count": 49,
   "metadata": {},
   "outputs": [],
   "source": [
    "df_rolling = df_clean_same_date.groupby(['person_id'])['count'].apply(pd.rolling_count, 365).reset_index()"
   ]
  },
  {
   "cell_type": "code",
   "execution_count": 50,
   "metadata": {
    "scrolled": true
   },
   "outputs": [
    {
     "data": {
      "text/html": [
       "<div>\n",
       "<style scoped>\n",
       "    .dataframe tbody tr th:only-of-type {\n",
       "        vertical-align: middle;\n",
       "    }\n",
       "\n",
       "    .dataframe tbody tr th {\n",
       "        vertical-align: top;\n",
       "    }\n",
       "\n",
       "    .dataframe thead th {\n",
       "        text-align: right;\n",
       "    }\n",
       "</style>\n",
       "<table border=\"1\" class=\"dataframe\">\n",
       "  <thead>\n",
       "    <tr style=\"text-align: right;\">\n",
       "      <th></th>\n",
       "      <th>Hospital_visit_date</th>\n",
       "      <th>count</th>\n",
       "    </tr>\n",
       "  </thead>\n",
       "  <tbody>\n",
       "    <tr>\n",
       "      <th>0</th>\n",
       "      <td>2013-12-06</td>\n",
       "      <td>0.0</td>\n",
       "    </tr>\n",
       "    <tr>\n",
       "      <th>1</th>\n",
       "      <td>2017-05-05</td>\n",
       "      <td>1.0</td>\n",
       "    </tr>\n",
       "    <tr>\n",
       "      <th>2</th>\n",
       "      <td>2016-11-22</td>\n",
       "      <td>0.0</td>\n",
       "    </tr>\n",
       "    <tr>\n",
       "      <th>3</th>\n",
       "      <td>2017-03-12</td>\n",
       "      <td>1.0</td>\n",
       "    </tr>\n",
       "    <tr>\n",
       "      <th>4</th>\n",
       "      <td>2017-03-18</td>\n",
       "      <td>2.0</td>\n",
       "    </tr>\n",
       "  </tbody>\n",
       "</table>\n",
       "</div>"
      ],
      "text/plain": [
       "  Hospital_visit_date  count\n",
       "0          2013-12-06    0.0\n",
       "1          2017-05-05    1.0\n",
       "2          2016-11-22    0.0\n",
       "3          2017-03-12    1.0\n",
       "4          2017-03-18    2.0"
      ]
     },
     "execution_count": 50,
     "metadata": {},
     "output_type": "execute_result"
    }
   ],
   "source": [
    "df_rolling['count'] = df_rolling['count'].apply(lambda x: x-1)\n",
    "df_rolling.head()"
   ]
  },
  {
   "cell_type": "code",
   "execution_count": 51,
   "metadata": {},
   "outputs": [],
   "source": [
    "df_rolling_ER = df_clean_same_date[df_clean_same_date['encounter_type'] == 'Emergency Room'].groupby(['person_id'])['count'].apply(pd.rolling_count, 365).reset_index()"
   ]
  },
  {
   "cell_type": "code",
   "execution_count": 52,
   "metadata": {},
   "outputs": [
    {
     "data": {
      "text/html": [
       "<div>\n",
       "<style scoped>\n",
       "    .dataframe tbody tr th:only-of-type {\n",
       "        vertical-align: middle;\n",
       "    }\n",
       "\n",
       "    .dataframe tbody tr th {\n",
       "        vertical-align: top;\n",
       "    }\n",
       "\n",
       "    .dataframe thead th {\n",
       "        text-align: right;\n",
       "    }\n",
       "</style>\n",
       "<table border=\"1\" class=\"dataframe\">\n",
       "  <thead>\n",
       "    <tr style=\"text-align: right;\">\n",
       "      <th></th>\n",
       "      <th>Hospital_visit_date</th>\n",
       "      <th>count</th>\n",
       "    </tr>\n",
       "  </thead>\n",
       "  <tbody>\n",
       "    <tr>\n",
       "      <th>0</th>\n",
       "      <td>2017-05-05</td>\n",
       "      <td>0.0</td>\n",
       "    </tr>\n",
       "    <tr>\n",
       "      <th>1</th>\n",
       "      <td>2017-03-12</td>\n",
       "      <td>0.0</td>\n",
       "    </tr>\n",
       "    <tr>\n",
       "      <th>2</th>\n",
       "      <td>2017-03-18</td>\n",
       "      <td>1.0</td>\n",
       "    </tr>\n",
       "    <tr>\n",
       "      <th>3</th>\n",
       "      <td>2013-09-16</td>\n",
       "      <td>0.0</td>\n",
       "    </tr>\n",
       "    <tr>\n",
       "      <th>4</th>\n",
       "      <td>2014-01-30</td>\n",
       "      <td>1.0</td>\n",
       "    </tr>\n",
       "  </tbody>\n",
       "</table>\n",
       "</div>"
      ],
      "text/plain": [
       "  Hospital_visit_date  count\n",
       "0          2017-05-05    0.0\n",
       "1          2017-03-12    0.0\n",
       "2          2017-03-18    1.0\n",
       "3          2013-09-16    0.0\n",
       "4          2014-01-30    1.0"
      ]
     },
     "execution_count": 52,
     "metadata": {},
     "output_type": "execute_result"
    }
   ],
   "source": [
    "df_rolling_ER['count'] = df_rolling_ER['count'].apply(lambda x: x-1)\n",
    "df_rolling_ER.head()"
   ]
  },
  {
   "cell_type": "code",
   "execution_count": 53,
   "metadata": {},
   "outputs": [],
   "source": [
    "df_rolling_IP = df_clean_same_date[df_clean_same_date['encounter_type'] == 'Inpatient'].groupby(['person_id'])['count'].apply(pd.rolling_count, 365).reset_index()"
   ]
  },
  {
   "cell_type": "code",
   "execution_count": 54,
   "metadata": {
    "scrolled": true
   },
   "outputs": [
    {
     "data": {
      "text/html": [
       "<div>\n",
       "<style scoped>\n",
       "    .dataframe tbody tr th:only-of-type {\n",
       "        vertical-align: middle;\n",
       "    }\n",
       "\n",
       "    .dataframe tbody tr th {\n",
       "        vertical-align: top;\n",
       "    }\n",
       "\n",
       "    .dataframe thead th {\n",
       "        text-align: right;\n",
       "    }\n",
       "</style>\n",
       "<table border=\"1\" class=\"dataframe\">\n",
       "  <thead>\n",
       "    <tr style=\"text-align: right;\">\n",
       "      <th></th>\n",
       "      <th>Hospital_visit_date</th>\n",
       "      <th>count</th>\n",
       "    </tr>\n",
       "  </thead>\n",
       "  <tbody>\n",
       "    <tr>\n",
       "      <th>0</th>\n",
       "      <td>2013-12-06</td>\n",
       "      <td>0.0</td>\n",
       "    </tr>\n",
       "    <tr>\n",
       "      <th>1</th>\n",
       "      <td>2016-11-22</td>\n",
       "      <td>0.0</td>\n",
       "    </tr>\n",
       "    <tr>\n",
       "      <th>2</th>\n",
       "      <td>2017-09-22</td>\n",
       "      <td>0.0</td>\n",
       "    </tr>\n",
       "    <tr>\n",
       "      <th>3</th>\n",
       "      <td>2016-06-03</td>\n",
       "      <td>0.0</td>\n",
       "    </tr>\n",
       "    <tr>\n",
       "      <th>4</th>\n",
       "      <td>2017-07-05</td>\n",
       "      <td>1.0</td>\n",
       "    </tr>\n",
       "  </tbody>\n",
       "</table>\n",
       "</div>"
      ],
      "text/plain": [
       "  Hospital_visit_date  count\n",
       "0          2013-12-06    0.0\n",
       "1          2016-11-22    0.0\n",
       "2          2017-09-22    0.0\n",
       "3          2016-06-03    0.0\n",
       "4          2017-07-05    1.0"
      ]
     },
     "execution_count": 54,
     "metadata": {},
     "output_type": "execute_result"
    }
   ],
   "source": [
    "df_rolling_IP['count'] = df_rolling_IP['count'].apply(lambda x: x-1)\n",
    "df_rolling_IP.head()"
   ]
  },
  {
   "cell_type": "code",
   "execution_count": 55,
   "metadata": {},
   "outputs": [],
   "source": [
    "df_clean_same_date['past_visits_total'] = df_rolling['count'].tolist()\n",
    "df_clean_same_date['past_visits_ER'] = 0\n",
    "df_clean_same_date['past_visits_ER'][df_clean_same_date['encounter_type'] == 'Emergency Room'] = df_rolling_ER['count'].tolist()\n",
    "df_clean_same_date['past_visits_IP'] = 0\n",
    "df_clean_same_date['past_visits_IP'][df_clean_same_date['encounter_type'] == 'Inpatient'] = df_rolling_IP['count'].tolist()"
   ]
  },
  {
   "cell_type": "code",
   "execution_count": 56,
   "metadata": {},
   "outputs": [
    {
     "data": {
      "text/html": [
       "<div>\n",
       "<style scoped>\n",
       "    .dataframe tbody tr th:only-of-type {\n",
       "        vertical-align: middle;\n",
       "    }\n",
       "\n",
       "    .dataframe tbody tr th {\n",
       "        vertical-align: top;\n",
       "    }\n",
       "\n",
       "    .dataframe thead th {\n",
       "        text-align: right;\n",
       "    }\n",
       "</style>\n",
       "<table border=\"1\" class=\"dataframe\">\n",
       "  <thead>\n",
       "    <tr style=\"text-align: right;\">\n",
       "      <th></th>\n",
       "      <th>person_id</th>\n",
       "      <th>encounter_type</th>\n",
       "      <th>past_visits_total</th>\n",
       "      <th>past_visits_ER</th>\n",
       "      <th>past_visits_IP</th>\n",
       "    </tr>\n",
       "    <tr>\n",
       "      <th>Hospital_visit_date</th>\n",
       "      <th></th>\n",
       "      <th></th>\n",
       "      <th></th>\n",
       "      <th></th>\n",
       "      <th></th>\n",
       "    </tr>\n",
       "  </thead>\n",
       "  <tbody>\n",
       "    <tr>\n",
       "      <th>2013-12-06</th>\n",
       "      <td>0000FA93-BB4B-44AE-B8C0-A136AB196B9F</td>\n",
       "      <td>Inpatient</td>\n",
       "      <td>0.0</td>\n",
       "      <td>0.0</td>\n",
       "      <td>0.0</td>\n",
       "    </tr>\n",
       "    <tr>\n",
       "      <th>2017-05-05</th>\n",
       "      <td>0000FA93-BB4B-44AE-B8C0-A136AB196B9F</td>\n",
       "      <td>Emergency Room</td>\n",
       "      <td>1.0</td>\n",
       "      <td>0.0</td>\n",
       "      <td>0.0</td>\n",
       "    </tr>\n",
       "    <tr>\n",
       "      <th>2016-11-22</th>\n",
       "      <td>000168EA-BC74-4035-B5A6-C92163F8CE62</td>\n",
       "      <td>Inpatient</td>\n",
       "      <td>0.0</td>\n",
       "      <td>0.0</td>\n",
       "      <td>0.0</td>\n",
       "    </tr>\n",
       "    <tr>\n",
       "      <th>2017-03-12</th>\n",
       "      <td>000168EA-BC74-4035-B5A6-C92163F8CE62</td>\n",
       "      <td>Emergency Room</td>\n",
       "      <td>1.0</td>\n",
       "      <td>0.0</td>\n",
       "      <td>0.0</td>\n",
       "    </tr>\n",
       "    <tr>\n",
       "      <th>2017-03-18</th>\n",
       "      <td>000168EA-BC74-4035-B5A6-C92163F8CE62</td>\n",
       "      <td>Emergency Room</td>\n",
       "      <td>2.0</td>\n",
       "      <td>1.0</td>\n",
       "      <td>0.0</td>\n",
       "    </tr>\n",
       "  </tbody>\n",
       "</table>\n",
       "</div>"
      ],
      "text/plain": [
       "                                                person_id  encounter_type  \\\n",
       "Hospital_visit_date                                                         \n",
       "2013-12-06           0000FA93-BB4B-44AE-B8C0-A136AB196B9F       Inpatient   \n",
       "2017-05-05           0000FA93-BB4B-44AE-B8C0-A136AB196B9F  Emergency Room   \n",
       "2016-11-22           000168EA-BC74-4035-B5A6-C92163F8CE62       Inpatient   \n",
       "2017-03-12           000168EA-BC74-4035-B5A6-C92163F8CE62  Emergency Room   \n",
       "2017-03-18           000168EA-BC74-4035-B5A6-C92163F8CE62  Emergency Room   \n",
       "\n",
       "                     past_visits_total  past_visits_ER  past_visits_IP  \n",
       "Hospital_visit_date                                                     \n",
       "2013-12-06                         0.0             0.0             0.0  \n",
       "2017-05-05                         1.0             0.0             0.0  \n",
       "2016-11-22                         0.0             0.0             0.0  \n",
       "2017-03-12                         1.0             0.0             0.0  \n",
       "2017-03-18                         2.0             1.0             0.0  "
      ]
     },
     "execution_count": 56,
     "metadata": {},
     "output_type": "execute_result"
    }
   ],
   "source": [
    "df_clean_same_date.drop('count',axis = 1, inplace = True)\n",
    "df_clean_same_date.head()"
   ]
  },
  {
   "cell_type": "code",
   "execution_count": 57,
   "metadata": {},
   "outputs": [],
   "source": [
    "# get correct past_ER and past_IP\n",
    "def get_past_ER(row):\n",
    "    if row['encounter_type'] == 'Inpatient':\n",
    "        return (row['past_visits_total'] - row['past_visits_IP'])\n",
    "    else:\n",
    "        return (row['past_visits_ER'])\n",
    "def get_past_IP(row):\n",
    "    if row['encounter_type'] == 'Emergency Room':\n",
    "        return (row['past_visits_total'] - row['past_visits_ER'])\n",
    "    else:\n",
    "        return (row['past_visits_IP'])\n",
    "df_clean_same_date['past_visits_ER'] = df_clean_same_date.apply(get_past_ER, axis=1)\n",
    "df_clean_same_date['past_visits_IP'] = df_clean_same_date.apply(get_past_IP, axis=1)"
   ]
  },
  {
   "cell_type": "markdown",
   "metadata": {},
   "source": [
    "## Find future/previous admissions (ALL)"
   ]
  },
  {
   "cell_type": "code",
   "execution_count": 151,
   "metadata": {},
   "outputs": [],
   "source": [
    "df_clean_all = df_clean.drop_duplicates(subset=['person_id','Hospital_visit_date']).drop(['diagnosis_code','diagnosis_sequence','dianosis_description'],axis = 1)"
   ]
  },
  {
   "cell_type": "code",
   "execution_count": 152,
   "metadata": {},
   "outputs": [],
   "source": [
    "##Shift time\n",
    "df_clean_all[\"encounter_next\"] = df_clean_all[\"encounter_type\"].shift(-1)\n",
    "df_clean_all[\"Hospital_visit_next\"] = df_clean_all[\"Hospital_visit_date\"].shift(-1)\n",
    "df_clean_all[\"hospital_poc_next\"] = df_clean_all[\"hospital_poc\"].shift(-1)\n",
    "df_clean_all[\"person_id_next\"] = df_clean_all[\"person_id\"].shift(-1)\n",
    "\n",
    "df_clean_all[\"encounter_prev\"] = df_clean_all[\"encounter_type\"].shift(1)\n",
    "df_clean_all[\"Hospital_visit_prev\"] = df_clean_all[\"discharge_date\"].shift(1)\n",
    "df_clean_all[\"hospital_poc_prev\"] = df_clean_all[\"hospital_poc\"].shift(1)\n",
    "df_clean_all[\"person_id_prev\"] = df_clean_all[\"person_id\"].shift(1)"
   ]
  },
  {
   "cell_type": "code",
   "execution_count": 154,
   "metadata": {},
   "outputs": [],
   "source": [
    "def get_encounter_prev(row):\n",
    "    if(row['person_id']!=row['person_id_prev']):\n",
    "        return(\"NA\")\n",
    "    else:\n",
    "        return(row['encounter_prev'])\n",
    "def get_hospital_prev(row):\n",
    "    if(row['person_id']!=row['person_id_prev']):\n",
    "        return(\"NA\")\n",
    "    else:\n",
    "        return(row['Hospital_visit_prev'])\n",
    "    \n",
    "def get_poc_prev(row):\n",
    "    if(row['person_id']!=row['person_id_prev']):\n",
    "        return(\"NA\")\n",
    "    else:\n",
    "        return(row['hospital_poc_prev'])\n",
    "\n",
    "def get_encounter_next(row):\n",
    "    if(row['person_id']!=row['person_id_next']):\n",
    "        return(\"NA\")\n",
    "    else:\n",
    "        return(row['encounter_next'])\n",
    "\n",
    "def get_hospital_next(row):\n",
    "    if(row['person_id']!=row['person_id_next']):\n",
    "        return(\"NA\")\n",
    "    else:\n",
    "        return(row['Hospital_visit_next'])\n",
    "\n",
    "def get_poc_next(row):\n",
    "    if(row['person_id']!=row['person_id_next']):\n",
    "        return(\"NA\")\n",
    "    else:\n",
    "        return(row['hospital_poc_next'])\n",
    "    \n",
    "df_clean_all['encounter_prev'] = df_clean_all.apply(get_encounter_prev,axis =1)\n",
    "df_clean_all['Hospital_visit_prev'] = df_clean_all.apply(get_hospital_prev,axis =1)\n",
    "df_clean_all['hospital_poc_prev'] = df_clean_all.apply(get_poc_prev,axis =1)\n",
    "df_clean_all['encounter_next'] = df_clean_all.apply(get_encounter_next,axis =1)\n",
    "df_clean_all['Hospital_visit_next'] = df_clean_all.apply(get_hospital_next,axis =1)\n",
    "df_clean_all['hospital_poc_next'] = df_clean_all.apply(get_poc_next,axis =1)"
   ]
  },
  {
   "cell_type": "code",
   "execution_count": 155,
   "metadata": {},
   "outputs": [],
   "source": [
    "##Get interval from last visit & next visit\n",
    "def get_interval_prev(row):\n",
    "    if(row['person_id']==row['person_id_prev']):\n",
    "        return((row['Hospital_visit_date']-row['Hospital_visit_prev']).days)\n",
    "    return(\"NA\")\n",
    "df_clean_all['interval_prev'] = df_clean_all.apply(get_interval_prev,axis =1)\n",
    "\n",
    "def get_interval_next(row):\n",
    "    if(row['person_id']==row['person_id_next']):\n",
    "        return((row['Hospital_visit_next']-row['discharge_date']).days)\n",
    "    return(\"NA\")\n",
    "df_clean_all['interval_next'] = df_clean_all.apply(get_interval_next,axis =1)"
   ]
  },
  {
   "cell_type": "code",
   "execution_count": 185,
   "metadata": {},
   "outputs": [
    {
     "data": {
      "text/html": [
       "<div>\n",
       "<style scoped>\n",
       "    .dataframe tbody tr th:only-of-type {\n",
       "        vertical-align: middle;\n",
       "    }\n",
       "\n",
       "    .dataframe tbody tr th {\n",
       "        vertical-align: top;\n",
       "    }\n",
       "\n",
       "    .dataframe thead th {\n",
       "        text-align: right;\n",
       "    }\n",
       "</style>\n",
       "<table border=\"1\" class=\"dataframe\">\n",
       "  <thead>\n",
       "    <tr style=\"text-align: right;\">\n",
       "      <th></th>\n",
       "      <th>person_id</th>\n",
       "      <th>Hospital_visit_date</th>\n",
       "      <th>discharge_date</th>\n",
       "      <th>Hospital_visit_prev</th>\n",
       "    </tr>\n",
       "  </thead>\n",
       "  <tbody>\n",
       "    <tr>\n",
       "      <th>0</th>\n",
       "      <td>0000FA93-BB4B-44AE-B8C0-A136AB196B9F</td>\n",
       "      <td>2013-12-06</td>\n",
       "      <td>2013-12-13 18:07:00</td>\n",
       "      <td>NA</td>\n",
       "    </tr>\n",
       "    <tr>\n",
       "      <th>1</th>\n",
       "      <td>0000FA93-BB4B-44AE-B8C0-A136AB196B9F</td>\n",
       "      <td>2017-05-05</td>\n",
       "      <td>2017-05-05 14:23:00</td>\n",
       "      <td>2013-12-13 18:07:00</td>\n",
       "    </tr>\n",
       "    <tr>\n",
       "      <th>2</th>\n",
       "      <td>000168EA-BC74-4035-B5A6-C92163F8CE62</td>\n",
       "      <td>2016-11-22</td>\n",
       "      <td>2016-11-24 10:00:00</td>\n",
       "      <td>NA</td>\n",
       "    </tr>\n",
       "    <tr>\n",
       "      <th>3</th>\n",
       "      <td>000168EA-BC74-4035-B5A6-C92163F8CE62</td>\n",
       "      <td>2017-03-12</td>\n",
       "      <td>2017-03-12 00:00:00</td>\n",
       "      <td>2016-11-24 10:00:00</td>\n",
       "    </tr>\n",
       "    <tr>\n",
       "      <th>4</th>\n",
       "      <td>000168EA-BC74-4035-B5A6-C92163F8CE62</td>\n",
       "      <td>2017-03-18</td>\n",
       "      <td>2017-03-18 00:00:00</td>\n",
       "      <td>2017-03-12 00:00:00</td>\n",
       "    </tr>\n",
       "  </tbody>\n",
       "</table>\n",
       "</div>"
      ],
      "text/plain": [
       "                              person_id Hospital_visit_date  \\\n",
       "0  0000FA93-BB4B-44AE-B8C0-A136AB196B9F          2013-12-06   \n",
       "1  0000FA93-BB4B-44AE-B8C0-A136AB196B9F          2017-05-05   \n",
       "2  000168EA-BC74-4035-B5A6-C92163F8CE62          2016-11-22   \n",
       "3  000168EA-BC74-4035-B5A6-C92163F8CE62          2017-03-12   \n",
       "4  000168EA-BC74-4035-B5A6-C92163F8CE62          2017-03-18   \n",
       "\n",
       "       discharge_date  Hospital_visit_prev  \n",
       "0 2013-12-13 18:07:00                   NA  \n",
       "1 2017-05-05 14:23:00  2013-12-13 18:07:00  \n",
       "2 2016-11-24 10:00:00                   NA  \n",
       "3 2017-03-12 00:00:00  2016-11-24 10:00:00  \n",
       "4 2017-03-18 00:00:00  2017-03-12 00:00:00  "
      ]
     },
     "execution_count": 185,
     "metadata": {},
     "output_type": "execute_result"
    }
   ],
   "source": [
    "df_clean_all[['person_id','Hospital_visit_date','discharge_date','Hospital_visit_prev']].head()"
   ]
  },
  {
   "cell_type": "code",
   "execution_count": 156,
   "metadata": {},
   "outputs": [],
   "source": [
    "df_clean_all['transfer_in_IP'] = 0\n",
    "df_clean_all['transfer_in_ER'] = 0\n",
    "df_clean_all['transfer_out_IP'] = 0\n",
    "df_clean_all['transfer_out_ER'] = 0"
   ]
  },
  {
   "cell_type": "code",
   "execution_count": 157,
   "metadata": {
    "scrolled": true
   },
   "outputs": [],
   "source": [
    "#transfers out\n",
    "df_clean_all['transfer_out_ER'][((df_clean_all['interval_next'] == 0) | (df_clean_all['interval_next'] == 1)) & (df_clean_all['encounter_next'] == 'Emergency Room')] = 1\n",
    "df_clean_all['transfer_out_IP'][((df_clean_all['interval_next'] == 0) | (df_clean_all['interval_next'] == 1)) & (df_clean_all['encounter_next'] == 'Inpatient')] = 1"
   ]
  },
  {
   "cell_type": "code",
   "execution_count": 158,
   "metadata": {},
   "outputs": [],
   "source": [
    "#transfers in\n",
    "df_clean_all['transfer_in_ER'][((df_clean_all['interval_prev'] == 0) | (df_clean_all['interval_prev'] == 1))& (df_clean_all['encounter_prev'] == 'Emergency Room')] = 1\n",
    "df_clean_all['transfer_in_IP'][((df_clean_all['interval_prev'] == 0) | (df_clean_all['interval_prev'] == 1)) &( df_clean_all['encounter_prev'] == 'Inpatient')] = 1"
   ]
  },
  {
   "cell_type": "code",
   "execution_count": 193,
   "metadata": {},
   "outputs": [
    {
     "data": {
      "text/plain": [
       "0           NA\n",
       "1         1238\n",
       "2           NA\n",
       "3          107\n",
       "4            6\n",
       "5           NA\n",
       "6          135\n",
       "7           81\n",
       "8         1084\n",
       "9           38\n",
       "10          42\n",
       "11          NA\n",
       "12           5\n",
       "13         108\n",
       "14          20\n",
       "15           4\n",
       "16          NA\n",
       "17         131\n",
       "18         103\n",
       "19         136\n",
       "20         192\n",
       "21          24\n",
       "22         398\n",
       "23         420\n",
       "24          NA\n",
       "25          35\n",
       "26          58\n",
       "27         487\n",
       "28           0\n",
       "29           2\n",
       "          ... \n",
       "221817      26\n",
       "221818       2\n",
       "221819      41\n",
       "221820     183\n",
       "221821      NA\n",
       "221822     267\n",
       "221823     512\n",
       "221824       8\n",
       "221825     552\n",
       "221826      24\n",
       "221827      NA\n",
       "221828     346\n",
       "221829     746\n",
       "221830      NA\n",
       "221831      13\n",
       "221832       2\n",
       "221833      38\n",
       "221834       8\n",
       "221835      33\n",
       "221836     234\n",
       "221837      85\n",
       "221838      29\n",
       "221839      29\n",
       "221840      42\n",
       "221841      37\n",
       "221842       4\n",
       "221843     113\n",
       "221844      34\n",
       "221845     239\n",
       "221846     241\n",
       "Name: interval_prev, Length: 221847, dtype: object"
      ]
     },
     "execution_count": 193,
     "metadata": {},
     "output_type": "execute_result"
    }
   ],
   "source": [
    "df_clean_all['interval_prev']"
   ]
  },
  {
   "cell_type": "code",
   "execution_count": 173,
   "metadata": {},
   "outputs": [
    {
     "data": {
      "text/plain": [
       "0    210352\n",
       "1     11495\n",
       "Name: transfer_in_ER, dtype: int64"
      ]
     },
     "execution_count": 173,
     "metadata": {},
     "output_type": "execute_result"
    }
   ],
   "source": [
    "df_clean_all.transfer_in_ER.value_counts()"
   ]
  },
  {
   "cell_type": "code",
   "execution_count": 159,
   "metadata": {},
   "outputs": [],
   "source": [
    "##Label next ER admission and interval\n",
    "def future_er(row):\n",
    "    if(row[\"person_id\"]==row[\"person_id_next\"]):\n",
    "        if row[\"encounter_next\"]==\"Emergency Room\":\n",
    "            if((row[\"Hospital_visit_next\"]-row[\"discharge_date\"]).days >30):\n",
    "                return(\">30\")\n",
    "            else:\n",
    "                return(\"<=30\")\n",
    "    return(\"NO\")\n",
    "\n",
    "##Label next inpatient admission and interval\n",
    "def future_inpatient(row):\n",
    "    if(row[\"person_id\"]==row[\"person_id_next\"]):\n",
    "        if row[\"encounter_next\"]==\"Inpatient\":\n",
    "            if((row[\"Hospital_visit_next\"]-row[\"discharge_date\"]).days >30):\n",
    "                return(\">30\")\n",
    "            else:\n",
    "                return(\"<=30\")\n",
    "    return(\"NO\")\n",
    "\n",
    "df_clean_all[\"Future_ER\"]=df_clean_all.apply(future_er,axis =1)\n",
    "df_clean_all[\"Future_Inpatient\"]=df_clean_all.apply(future_inpatient, axis=1)"
   ]
  },
  {
   "cell_type": "code",
   "execution_count": 160,
   "metadata": {},
   "outputs": [
    {
     "data": {
      "text/plain": [
       ">30     102913\n",
       "<=30     66376\n",
       "NO       52558\n",
       "Name: Future_ER, dtype: int64"
      ]
     },
     "execution_count": 160,
     "metadata": {},
     "output_type": "execute_result"
    }
   ],
   "source": [
    "df_clean_all[\"Future_ER\"].value_counts()"
   ]
  },
  {
   "cell_type": "code",
   "execution_count": 161,
   "metadata": {},
   "outputs": [
    {
     "data": {
      "text/plain": [
       "NO      197108\n",
       ">30      13560\n",
       "<=30     11179\n",
       "Name: Future_Inpatient, dtype: int64"
      ]
     },
     "execution_count": 161,
     "metadata": {},
     "output_type": "execute_result"
    }
   ],
   "source": [
    "df_clean_all[\"Future_Inpatient\"].value_counts()"
   ]
  },
  {
   "cell_type": "code",
   "execution_count": 162,
   "metadata": {},
   "outputs": [],
   "source": [
    "df_clean_all = df_clean_all.merge(df_clean_same_date.reset_index(), on = ['person_id','Hospital_visit_date','encounter_type'])"
   ]
  },
  {
   "cell_type": "code",
   "execution_count": 163,
   "metadata": {},
   "outputs": [],
   "source": [
    "df_clean_all.to_csv('data/readmission_all.csv', index = False)"
   ]
  },
  {
   "cell_type": "code",
   "execution_count": 164,
   "metadata": {},
   "outputs": [
    {
     "data": {
      "text/plain": [
       "(221847, 41)"
      ]
     },
     "execution_count": 164,
     "metadata": {},
     "output_type": "execute_result"
    }
   ],
   "source": [
    "df_clean_all.shape"
   ]
  },
  {
   "cell_type": "markdown",
   "metadata": {},
   "source": [
    "## Create new table for diagnosis"
   ]
  },
  {
   "cell_type": "code",
   "execution_count": 116,
   "metadata": {},
   "outputs": [],
   "source": [
    "df_diagnosis_code = df_clean.groupby(['person_id','Hospital_visit_date'])['diagnosis_code'].apply(list).reset_index()\n",
    "df_diagnosis_seq = df_clean.groupby(['person_id','Hospital_visit_date'])['diagnosis_sequence'].apply(list).reset_index()"
   ]
  },
  {
   "cell_type": "code",
   "execution_count": 117,
   "metadata": {},
   "outputs": [],
   "source": [
    "df_diagnosis_all = df_diagnosis_code.merge(df_diagnosis_seq, on = ['person_id','Hospital_visit_date'])"
   ]
  },
  {
   "cell_type": "code",
   "execution_count": 118,
   "metadata": {},
   "outputs": [
    {
     "data": {
      "text/html": [
       "<div>\n",
       "<style scoped>\n",
       "    .dataframe tbody tr th:only-of-type {\n",
       "        vertical-align: middle;\n",
       "    }\n",
       "\n",
       "    .dataframe tbody tr th {\n",
       "        vertical-align: top;\n",
       "    }\n",
       "\n",
       "    .dataframe thead th {\n",
       "        text-align: right;\n",
       "    }\n",
       "</style>\n",
       "<table border=\"1\" class=\"dataframe\">\n",
       "  <thead>\n",
       "    <tr style=\"text-align: right;\">\n",
       "      <th></th>\n",
       "      <th>person_id</th>\n",
       "      <th>Hospital_visit_date</th>\n",
       "      <th>diagnosis_code</th>\n",
       "      <th>diagnosis_sequence</th>\n",
       "    </tr>\n",
       "  </thead>\n",
       "  <tbody>\n",
       "    <tr>\n",
       "      <th>0</th>\n",
       "      <td>0000FA93-BB4B-44AE-B8C0-A136AB196B9F</td>\n",
       "      <td>2013-12-06</td>\n",
       "      <td>[860]</td>\n",
       "      <td>[4.0]</td>\n",
       "    </tr>\n",
       "    <tr>\n",
       "      <th>1</th>\n",
       "      <td>0000FA93-BB4B-44AE-B8C0-A136AB196B9F</td>\n",
       "      <td>2017-05-05</td>\n",
       "      <td>[R42]</td>\n",
       "      <td>[2.0]</td>\n",
       "    </tr>\n",
       "    <tr>\n",
       "      <th>2</th>\n",
       "      <td>000168EA-BC74-4035-B5A6-C92163F8CE62</td>\n",
       "      <td>2016-11-22</td>\n",
       "      <td>[Z37.0]</td>\n",
       "      <td>[2.0]</td>\n",
       "    </tr>\n",
       "    <tr>\n",
       "      <th>3</th>\n",
       "      <td>000168EA-BC74-4035-B5A6-C92163F8CE62</td>\n",
       "      <td>2017-03-12</td>\n",
       "      <td>[L53.9]</td>\n",
       "      <td>[3.0]</td>\n",
       "    </tr>\n",
       "    <tr>\n",
       "      <th>4</th>\n",
       "      <td>000168EA-BC74-4035-B5A6-C92163F8CE62</td>\n",
       "      <td>2017-03-18</td>\n",
       "      <td>[G89.18]</td>\n",
       "      <td>[1.0]</td>\n",
       "    </tr>\n",
       "  </tbody>\n",
       "</table>\n",
       "</div>"
      ],
      "text/plain": [
       "                              person_id Hospital_visit_date diagnosis_code  \\\n",
       "0  0000FA93-BB4B-44AE-B8C0-A136AB196B9F          2013-12-06          [860]   \n",
       "1  0000FA93-BB4B-44AE-B8C0-A136AB196B9F          2017-05-05          [R42]   \n",
       "2  000168EA-BC74-4035-B5A6-C92163F8CE62          2016-11-22        [Z37.0]   \n",
       "3  000168EA-BC74-4035-B5A6-C92163F8CE62          2017-03-12        [L53.9]   \n",
       "4  000168EA-BC74-4035-B5A6-C92163F8CE62          2017-03-18       [G89.18]   \n",
       "\n",
       "  diagnosis_sequence  \n",
       "0              [4.0]  \n",
       "1              [2.0]  \n",
       "2              [2.0]  \n",
       "3              [3.0]  \n",
       "4              [1.0]  "
      ]
     },
     "execution_count": 118,
     "metadata": {},
     "output_type": "execute_result"
    }
   ],
   "source": [
    "df_diagnosis_all.head()"
   ]
  },
  {
   "cell_type": "code",
   "execution_count": 119,
   "metadata": {},
   "outputs": [],
   "source": [
    "df_diagnosis_all.to_csv('data/readmission_diagnosis_all.csv', index = False)"
   ]
  },
  {
   "cell_type": "code",
   "execution_count": 120,
   "metadata": {},
   "outputs": [
    {
     "data": {
      "text/plain": [
       "(221847, 4)"
      ]
     },
     "execution_count": 120,
     "metadata": {},
     "output_type": "execute_result"
    }
   ],
   "source": [
    "df_diagnosis_all.shape"
   ]
  },
  {
   "cell_type": "markdown",
   "metadata": {},
   "source": [
    "## Find future/previous admissions (IP to IP)"
   ]
  },
  {
   "cell_type": "markdown",
   "metadata": {},
   "source": [
    "### get previous encounter info (ALL)"
   ]
  },
  {
   "cell_type": "code",
   "execution_count": 295,
   "metadata": {},
   "outputs": [
    {
     "data": {
      "text/plain": [
       "(221847, 22)"
      ]
     },
     "execution_count": 295,
     "metadata": {},
     "output_type": "execute_result"
    }
   ],
   "source": [
    "df_clean_ip = df_clean.drop_duplicates(subset=['person_id','Hospital_visit_date'], keep = 'last').drop(['diagnosis_code','diagnosis_sequence','dianosis_description'],axis = 1)\n",
    "df_clean_ip.shape"
   ]
  },
  {
   "cell_type": "code",
   "execution_count": 296,
   "metadata": {},
   "outputs": [],
   "source": [
    "df_clean_ip[\"encounter_prev_all\"] = df_clean_ip[\"encounter_type\"].shift(1)\n",
    "df_clean_ip[\"Hospital_visit_prev_all\"] = df_clean_ip[\"discharge_date\"].shift(1)\n",
    "df_clean_ip[\"hospital_poc_prev_all\"] = df_clean_ip[\"hospital_poc\"].shift(1)\n",
    "df_clean_ip[\"person_id_prev_all\"] = df_clean_ip[\"person_id\"].shift(1)"
   ]
  },
  {
   "cell_type": "code",
   "execution_count": 297,
   "metadata": {},
   "outputs": [],
   "source": [
    "def get_encounter_prev_all(row):\n",
    "    if(row['person_id']!=row['person_id_prev_all']):\n",
    "        return(\"NA\")\n",
    "    else:\n",
    "        return(row['encounter_prev_all'])\n",
    "def get_hospital_prev_all(row):\n",
    "    if(row['person_id']!=row['person_id_prev_all']):\n",
    "        return(\"NA\")\n",
    "    else:\n",
    "        return(row['Hospital_visit_prev_all'])\n",
    "    \n",
    "def get_poc_prev_all(row):\n",
    "    if(row['person_id']!=row['person_id_prev_all']):\n",
    "        return(\"NA\")\n",
    "    else:\n",
    "        return(row['hospital_poc_prev_all'])\n",
    "\n",
    "\n",
    "df_clean_ip['encounter_prev_all'] = df_clean_ip.apply(get_encounter_prev_all,axis =1)\n",
    "df_clean_ip['Hospital_visit_prev_all'] = df_clean_ip.apply(get_hospital_prev_all,axis =1)\n",
    "df_clean_ip['hospital_poc_prev_all'] = df_clean_ip.apply(get_poc_prev_all,axis =1)"
   ]
  },
  {
   "cell_type": "code",
   "execution_count": 298,
   "metadata": {},
   "outputs": [],
   "source": [
    "##Get interval from last visit (ALL)\n",
    "def get_interval_prev_all(row):\n",
    "    if(row['person_id']==row['person_id_prev_all']):\n",
    "        return((row['Hospital_visit_date']-row['Hospital_visit_prev_all']).days)\n",
    "    return(\"NA\")\n",
    "df_clean_ip['interval_prev_all'] = df_clean_ip.apply(get_interval_prev_all,axis =1)"
   ]
  },
  {
   "cell_type": "code",
   "execution_count": 299,
   "metadata": {},
   "outputs": [],
   "source": [
    "df_clean_ip['transfer_in_ER'] = 0\n",
    "df_clean_ip['transfer_in_IP'] = 0"
   ]
  },
  {
   "cell_type": "code",
   "execution_count": 300,
   "metadata": {},
   "outputs": [],
   "source": [
    "#transfers in\n",
    "df_clean_ip['transfer_in_ER'][((df_clean_ip['interval_prev_all'] == 0) | (df_clean_ip['interval_prev_all'] == 1))& (df_clean_ip['encounter_prev_all'] == 'Emergency Room')] = 1\n",
    "df_clean_ip['transfer_in_IP'][((df_clean_ip['interval_prev_all'] == 0) | (df_clean_ip['interval_prev_all'] == 1)) &( df_clean_ip['encounter_prev_all'] == 'Inpatient')] = 1"
   ]
  },
  {
   "cell_type": "code",
   "execution_count": 301,
   "metadata": {},
   "outputs": [
    {
     "data": {
      "text/plain": [
       "0    210353\n",
       "1     11494\n",
       "Name: transfer_in_ER, dtype: int64"
      ]
     },
     "execution_count": 301,
     "metadata": {},
     "output_type": "execute_result"
    }
   ],
   "source": [
    "df_clean_ip.transfer_in_ER.value_counts()"
   ]
  },
  {
   "cell_type": "markdown",
   "metadata": {},
   "source": [
    "### Inpatient only encounters"
   ]
  },
  {
   "cell_type": "code",
   "execution_count": 302,
   "metadata": {},
   "outputs": [
    {
     "data": {
      "text/plain": [
       "(29107, 29)"
      ]
     },
     "execution_count": 302,
     "metadata": {},
     "output_type": "execute_result"
    }
   ],
   "source": [
    "df_clean_ip = df_clean_ip[df_clean_ip['encounter_type'] == 'Inpatient']\n",
    "df_clean_ip.shape"
   ]
  },
  {
   "cell_type": "code",
   "execution_count": 303,
   "metadata": {},
   "outputs": [],
   "source": [
    "##Shift time\n",
    "df_clean_ip[\"encounter_next\"] = df_clean_ip[\"encounter_type\"].shift(-1)\n",
    "df_clean_ip[\"Hospital_visit_next\"] = df_clean_ip[\"Hospital_visit_date\"].shift(-1)\n",
    "df_clean_ip[\"hospital_poc_next\"] = df_clean_ip[\"hospital_poc\"].shift(-1)\n",
    "df_clean_ip[\"person_id_next\"] = df_clean_ip[\"person_id\"].shift(-1)\n",
    "\n",
    "df_clean_ip[\"encounter_prev\"] = df_clean_ip[\"encounter_type\"].shift(1)\n",
    "df_clean_ip[\"Hospital_visit_prev\"] = df_clean_ip[\"discharge_date\"].shift(1)\n",
    "df_clean_ip[\"hospital_poc_prev\"] = df_clean_ip[\"hospital_poc\"].shift(1)\n",
    "df_clean_ip[\"person_id_prev\"] = df_clean_ip[\"person_id\"].shift(1)"
   ]
  },
  {
   "cell_type": "code",
   "execution_count": 304,
   "metadata": {},
   "outputs": [],
   "source": [
    "df_clean_ip['encounter_prev'] = df_clean_ip.apply(get_encounter_prev,axis =1)\n",
    "df_clean_ip['Hospital_visit_prev'] = df_clean_ip.apply(get_hospital_prev,axis =1)\n",
    "df_clean_ip['hospital_poc_prev'] = df_clean_ip.apply(get_poc_prev,axis =1)\n",
    "\n",
    "df_clean_ip['encounter_next'] = df_clean_ip.apply(get_encounter_next,axis =1)\n",
    "df_clean_ip['Hospital_visit_next'] = df_clean_ip.apply(get_hospital_next,axis =1)\n",
    "df_clean_ip['hospital_poc_next'] = df_clean_ip.apply(get_poc_next,axis =1)"
   ]
  },
  {
   "cell_type": "code",
   "execution_count": 305,
   "metadata": {},
   "outputs": [],
   "source": [
    "##Get interval from last and next INPATIENT visit\n",
    "df_clean_ip['interval_prev'] = df_clean_ip.apply(get_interval_prev,axis =1)\n",
    "df_clean_ip['interval_next'] = df_clean_ip.apply(get_interval_next,axis =1)"
   ]
  },
  {
   "cell_type": "code",
   "execution_count": 306,
   "metadata": {},
   "outputs": [],
   "source": [
    "#transfers out\n",
    "df_clean_ip['transfer_out_IP'] = 0\n",
    "df_clean_ip['transfer_out_IP'][((df_clean_ip['interval_next'] == -1) | (df_clean_ip['interval_next'] == 0) | (df_clean_ip['interval_next'] == 1) ) & (df_clean_ip['encounter_next'] == 'Inpatient')] = 1"
   ]
  },
  {
   "cell_type": "code",
   "execution_count": 307,
   "metadata": {},
   "outputs": [
    {
     "data": {
      "text/plain": [
       "0    28293\n",
       "1      814\n",
       "Name: transfer_out_IP, dtype: int64"
      ]
     },
     "execution_count": 307,
     "metadata": {},
     "output_type": "execute_result"
    }
   ],
   "source": [
    "df_clean_ip['transfer_out_IP'].value_counts()"
   ]
  },
  {
   "cell_type": "code",
   "execution_count": 308,
   "metadata": {},
   "outputs": [],
   "source": [
    "##Label next INPAITIENT admission and interval\n",
    "df_clean_ip[\"Future_Inpatient\"]=df_clean_ip.apply(future_inpatient, axis=1)"
   ]
  },
  {
   "cell_type": "code",
   "execution_count": 309,
   "metadata": {},
   "outputs": [
    {
     "data": {
      "text/plain": [
       "NO      12871\n",
       ">30     11295\n",
       "<=30     4941\n",
       "Name: Future_Inpatient, dtype: int64"
      ]
     },
     "execution_count": 309,
     "metadata": {},
     "output_type": "execute_result"
    }
   ],
   "source": [
    "df_clean_ip[\"Future_Inpatient\"].value_counts()"
   ]
  },
  {
   "cell_type": "code",
   "execution_count": 310,
   "metadata": {},
   "outputs": [
    {
     "data": {
      "text/html": [
       "<div>\n",
       "<style scoped>\n",
       "    .dataframe tbody tr th:only-of-type {\n",
       "        vertical-align: middle;\n",
       "    }\n",
       "\n",
       "    .dataframe tbody tr th {\n",
       "        vertical-align: top;\n",
       "    }\n",
       "\n",
       "    .dataframe thead th {\n",
       "        text-align: right;\n",
       "    }\n",
       "</style>\n",
       "<table border=\"1\" class=\"dataframe\">\n",
       "  <thead>\n",
       "    <tr style=\"text-align: right;\">\n",
       "      <th></th>\n",
       "      <th>person_id</th>\n",
       "      <th>Age_at_visit</th>\n",
       "      <th>patient_city</th>\n",
       "      <th>patient_county</th>\n",
       "      <th>patient_zipcode</th>\n",
       "      <th>hospital_poc</th>\n",
       "      <th>Hospital_visit_date</th>\n",
       "      <th>discharge_date</th>\n",
       "      <th>encounter_type</th>\n",
       "      <th>payor_name</th>\n",
       "      <th>...</th>\n",
       "      <th>hospital_poc_next</th>\n",
       "      <th>person_id_next</th>\n",
       "      <th>encounter_prev</th>\n",
       "      <th>Hospital_visit_prev</th>\n",
       "      <th>hospital_poc_prev</th>\n",
       "      <th>person_id_prev</th>\n",
       "      <th>interval_prev</th>\n",
       "      <th>interval_next</th>\n",
       "      <th>transfer_out_IP</th>\n",
       "      <th>Future_Inpatient</th>\n",
       "    </tr>\n",
       "  </thead>\n",
       "  <tbody>\n",
       "    <tr>\n",
       "      <th>0</th>\n",
       "      <td>0000FA93-BB4B-44AE-B8C0-A136AB196B9F</td>\n",
       "      <td>36</td>\n",
       "      <td>AUSTIN</td>\n",
       "      <td>Travis</td>\n",
       "      <td>78754</td>\n",
       "      <td>Brackenridge Hospital</td>\n",
       "      <td>2013-12-06</td>\n",
       "      <td>2013-12-13 18:07:00</td>\n",
       "      <td>Inpatient</td>\n",
       "      <td>Unknown</td>\n",
       "      <td>...</td>\n",
       "      <td>NA</td>\n",
       "      <td>000168EA-BC74-4035-B5A6-C92163F8CE62</td>\n",
       "      <td>NA</td>\n",
       "      <td>NA</td>\n",
       "      <td>NA</td>\n",
       "      <td>NaN</td>\n",
       "      <td>NA</td>\n",
       "      <td>NA</td>\n",
       "      <td>0</td>\n",
       "      <td>NO</td>\n",
       "    </tr>\n",
       "    <tr>\n",
       "      <th>2</th>\n",
       "      <td>000168EA-BC74-4035-B5A6-C92163F8CE62</td>\n",
       "      <td>22</td>\n",
       "      <td>Austin</td>\n",
       "      <td>Travis</td>\n",
       "      <td>78744</td>\n",
       "      <td>Seton Northwest</td>\n",
       "      <td>2016-11-22</td>\n",
       "      <td>2016-11-24 10:00:00</td>\n",
       "      <td>Inpatient</td>\n",
       "      <td>Medicaid</td>\n",
       "      <td>...</td>\n",
       "      <td>NA</td>\n",
       "      <td>0003E5CA-4E3A-4D93-AEC2-12B62404D098</td>\n",
       "      <td>NA</td>\n",
       "      <td>NA</td>\n",
       "      <td>NA</td>\n",
       "      <td>0000FA93-BB4B-44AE-B8C0-A136AB196B9F</td>\n",
       "      <td>NA</td>\n",
       "      <td>NA</td>\n",
       "      <td>0</td>\n",
       "      <td>NO</td>\n",
       "    </tr>\n",
       "    <tr>\n",
       "      <th>15</th>\n",
       "      <td>0003E5CA-4E3A-4D93-AEC2-12B62404D098</td>\n",
       "      <td>53</td>\n",
       "      <td>AUSTIN</td>\n",
       "      <td>Travis</td>\n",
       "      <td>78758</td>\n",
       "      <td>St. Davids South Austin Medical Center</td>\n",
       "      <td>2017-09-22</td>\n",
       "      <td>2017-09-27 19:03:00</td>\n",
       "      <td>Inpatient</td>\n",
       "      <td>Charity</td>\n",
       "      <td>...</td>\n",
       "      <td>NA</td>\n",
       "      <td>000D4C90-4826-4B44-A6F7-E2290E39F2FC</td>\n",
       "      <td>NA</td>\n",
       "      <td>NA</td>\n",
       "      <td>NA</td>\n",
       "      <td>000168EA-BC74-4035-B5A6-C92163F8CE62</td>\n",
       "      <td>NA</td>\n",
       "      <td>NA</td>\n",
       "      <td>0</td>\n",
       "      <td>NO</td>\n",
       "    </tr>\n",
       "    <tr>\n",
       "      <th>73</th>\n",
       "      <td>000D4C90-4826-4B44-A6F7-E2290E39F2FC</td>\n",
       "      <td>23</td>\n",
       "      <td>Austin</td>\n",
       "      <td>Travis</td>\n",
       "      <td>78741</td>\n",
       "      <td>Seton Medical Center</td>\n",
       "      <td>2016-06-03</td>\n",
       "      <td>2016-06-06 18:50:00</td>\n",
       "      <td>Inpatient</td>\n",
       "      <td>Medicaid</td>\n",
       "      <td>...</td>\n",
       "      <td>Seton Medical Center</td>\n",
       "      <td>000D4C90-4826-4B44-A6F7-E2290E39F2FC</td>\n",
       "      <td>NA</td>\n",
       "      <td>NA</td>\n",
       "      <td>NA</td>\n",
       "      <td>0003E5CA-4E3A-4D93-AEC2-12B62404D098</td>\n",
       "      <td>NA</td>\n",
       "      <td>393</td>\n",
       "      <td>0</td>\n",
       "      <td>&gt;30</td>\n",
       "    </tr>\n",
       "    <tr>\n",
       "      <th>75</th>\n",
       "      <td>000D4C90-4826-4B44-A6F7-E2290E39F2FC</td>\n",
       "      <td>24</td>\n",
       "      <td>Austin</td>\n",
       "      <td>Travis</td>\n",
       "      <td>78741</td>\n",
       "      <td>Seton Medical Center</td>\n",
       "      <td>2017-07-05</td>\n",
       "      <td>2017-07-08 18:10:00</td>\n",
       "      <td>Inpatient</td>\n",
       "      <td>Medicaid</td>\n",
       "      <td>...</td>\n",
       "      <td>NA</td>\n",
       "      <td>000DD9EF-6B0B-4656-83AB-981FC7F142D8</td>\n",
       "      <td>Inpatient</td>\n",
       "      <td>2016-06-06 18:50:00</td>\n",
       "      <td>Seton Medical Center</td>\n",
       "      <td>000D4C90-4826-4B44-A6F7-E2290E39F2FC</td>\n",
       "      <td>393</td>\n",
       "      <td>NA</td>\n",
       "      <td>0</td>\n",
       "      <td>NO</td>\n",
       "    </tr>\n",
       "  </tbody>\n",
       "</table>\n",
       "<p>5 rows × 41 columns</p>\n",
       "</div>"
      ],
      "text/plain": [
       "                               person_id  Age_at_visit patient_city  \\\n",
       "0   0000FA93-BB4B-44AE-B8C0-A136AB196B9F            36       AUSTIN   \n",
       "2   000168EA-BC74-4035-B5A6-C92163F8CE62            22       Austin   \n",
       "15  0003E5CA-4E3A-4D93-AEC2-12B62404D098            53       AUSTIN   \n",
       "73  000D4C90-4826-4B44-A6F7-E2290E39F2FC            23       Austin   \n",
       "75  000D4C90-4826-4B44-A6F7-E2290E39F2FC            24       Austin   \n",
       "\n",
       "   patient_county  patient_zipcode                            hospital_poc  \\\n",
       "0          Travis            78754                   Brackenridge Hospital   \n",
       "2          Travis            78744                         Seton Northwest   \n",
       "15         Travis            78758  St. Davids South Austin Medical Center   \n",
       "73         Travis            78741                    Seton Medical Center   \n",
       "75         Travis            78741                    Seton Medical Center   \n",
       "\n",
       "   Hospital_visit_date      discharge_date encounter_type payor_name  \\\n",
       "0           2013-12-06 2013-12-13 18:07:00      Inpatient    Unknown   \n",
       "2           2016-11-22 2016-11-24 10:00:00      Inpatient   Medicaid   \n",
       "15          2017-09-22 2017-09-27 19:03:00      Inpatient    Charity   \n",
       "73          2016-06-03 2016-06-06 18:50:00      Inpatient   Medicaid   \n",
       "75          2017-07-05 2017-07-08 18:10:00      Inpatient   Medicaid   \n",
       "\n",
       "          ...            hospital_poc_next  \\\n",
       "0         ...                           NA   \n",
       "2         ...                           NA   \n",
       "15        ...                           NA   \n",
       "73        ...         Seton Medical Center   \n",
       "75        ...                           NA   \n",
       "\n",
       "                          person_id_next encounter_prev  Hospital_visit_prev  \\\n",
       "0   000168EA-BC74-4035-B5A6-C92163F8CE62             NA                   NA   \n",
       "2   0003E5CA-4E3A-4D93-AEC2-12B62404D098             NA                   NA   \n",
       "15  000D4C90-4826-4B44-A6F7-E2290E39F2FC             NA                   NA   \n",
       "73  000D4C90-4826-4B44-A6F7-E2290E39F2FC             NA                   NA   \n",
       "75  000DD9EF-6B0B-4656-83AB-981FC7F142D8      Inpatient  2016-06-06 18:50:00   \n",
       "\n",
       "       hospital_poc_prev                        person_id_prev interval_prev  \\\n",
       "0                     NA                                   NaN            NA   \n",
       "2                     NA  0000FA93-BB4B-44AE-B8C0-A136AB196B9F            NA   \n",
       "15                    NA  000168EA-BC74-4035-B5A6-C92163F8CE62            NA   \n",
       "73                    NA  0003E5CA-4E3A-4D93-AEC2-12B62404D098            NA   \n",
       "75  Seton Medical Center  000D4C90-4826-4B44-A6F7-E2290E39F2FC           393   \n",
       "\n",
       "    interval_next  transfer_out_IP  Future_Inpatient  \n",
       "0              NA                0                NO  \n",
       "2              NA                0                NO  \n",
       "15             NA                0                NO  \n",
       "73            393                0               >30  \n",
       "75             NA                0                NO  \n",
       "\n",
       "[5 rows x 41 columns]"
      ]
     },
     "execution_count": 310,
     "metadata": {},
     "output_type": "execute_result"
    }
   ],
   "source": [
    "df_clean_ip.head()"
   ]
  },
  {
   "cell_type": "code",
   "execution_count": 311,
   "metadata": {},
   "outputs": [],
   "source": [
    "df_clean_ip = df_clean_ip.merge(df_clean_same_date.reset_index(), on = ['person_id','Hospital_visit_date','encounter_type'], how = 'left')"
   ]
  },
  {
   "cell_type": "code",
   "execution_count": 312,
   "metadata": {},
   "outputs": [],
   "source": [
    "df_clean_ip.to_csv('data/readmission_ip.csv', index = False)"
   ]
  },
  {
   "cell_type": "code",
   "execution_count": 313,
   "metadata": {},
   "outputs": [
    {
     "data": {
      "text/plain": [
       "(29107, 44)"
      ]
     },
     "execution_count": 313,
     "metadata": {},
     "output_type": "execute_result"
    }
   ],
   "source": [
    "df_clean_ip.shape"
   ]
  },
  {
   "cell_type": "markdown",
   "metadata": {},
   "source": [
    "## Create new table for diagnosis (IP)"
   ]
  },
  {
   "cell_type": "code",
   "execution_count": 275,
   "metadata": {},
   "outputs": [],
   "source": [
    "df_diagnosis_code = df_clean.groupby(['person_id','Hospital_visit_date'])['diagnosis_code'].apply(list).reset_index()\n",
    "df_diagnosis_seq = df_clean.groupby(['person_id','Hospital_visit_date'])['diagnosis_sequence'].apply(list).reset_index()"
   ]
  },
  {
   "cell_type": "code",
   "execution_count": 270,
   "metadata": {},
   "outputs": [],
   "source": [
    "df_diagnosis_filter = df_clean.groupby(['person_id','Hospital_visit_date'])['encounter_type'].apply(list).reset_index()\n",
    "df_diagnosis_filter['is_IP'] = df_diagnosis_filter['encounter_type'].apply(lambda x: eval(str(x))[-1] == 'Inpatient')\n",
    "df_diagnosis_filter_ip = df_diagnosis_filter[df_diagnosis_filter.is_IP == True]"
   ]
  },
  {
   "cell_type": "code",
   "execution_count": 276,
   "metadata": {},
   "outputs": [],
   "source": [
    "df_diagnosis_code = df_diagnosis_code.merge(df_diagnosis_filter_ip, on = ['person_id','Hospital_visit_date'], how = 'right').drop(['encounter_type','is_IP'], axis = 1)\n",
    "df_diagnosis_seq = df_diagnosis_seq.merge(df_diagnosis_filter_ip, on = ['person_id','Hospital_visit_date'], how = 'right').drop(['encounter_type','is_IP'], axis = 1)"
   ]
  },
  {
   "cell_type": "code",
   "execution_count": 277,
   "metadata": {},
   "outputs": [],
   "source": [
    "df_diagnosis_ip = df_diagnosis_code.merge(df_diagnosis_seq, on = ['person_id','Hospital_visit_date'])"
   ]
  },
  {
   "cell_type": "code",
   "execution_count": 278,
   "metadata": {
    "scrolled": true
   },
   "outputs": [
    {
     "data": {
      "text/html": [
       "<div>\n",
       "<style scoped>\n",
       "    .dataframe tbody tr th:only-of-type {\n",
       "        vertical-align: middle;\n",
       "    }\n",
       "\n",
       "    .dataframe tbody tr th {\n",
       "        vertical-align: top;\n",
       "    }\n",
       "\n",
       "    .dataframe thead th {\n",
       "        text-align: right;\n",
       "    }\n",
       "</style>\n",
       "<table border=\"1\" class=\"dataframe\">\n",
       "  <thead>\n",
       "    <tr style=\"text-align: right;\">\n",
       "      <th></th>\n",
       "      <th>person_id</th>\n",
       "      <th>Hospital_visit_date</th>\n",
       "      <th>diagnosis_code</th>\n",
       "      <th>diagnosis_sequence</th>\n",
       "    </tr>\n",
       "  </thead>\n",
       "  <tbody>\n",
       "    <tr>\n",
       "      <th>0</th>\n",
       "      <td>0000FA93-BB4B-44AE-B8C0-A136AB196B9F</td>\n",
       "      <td>2013-12-06</td>\n",
       "      <td>[860]</td>\n",
       "      <td>[4.0]</td>\n",
       "    </tr>\n",
       "    <tr>\n",
       "      <th>1</th>\n",
       "      <td>000168EA-BC74-4035-B5A6-C92163F8CE62</td>\n",
       "      <td>2016-11-22</td>\n",
       "      <td>[Z37.0]</td>\n",
       "      <td>[2.0]</td>\n",
       "    </tr>\n",
       "    <tr>\n",
       "      <th>2</th>\n",
       "      <td>0003E5CA-4E3A-4D93-AEC2-12B62404D098</td>\n",
       "      <td>2017-09-22</td>\n",
       "      <td>[nan]</td>\n",
       "      <td>[nan]</td>\n",
       "    </tr>\n",
       "    <tr>\n",
       "      <th>3</th>\n",
       "      <td>000D4C90-4826-4B44-A6F7-E2290E39F2FC</td>\n",
       "      <td>2016-06-03</td>\n",
       "      <td>[O70.0]</td>\n",
       "      <td>[3.0]</td>\n",
       "    </tr>\n",
       "    <tr>\n",
       "      <th>4</th>\n",
       "      <td>000D4C90-4826-4B44-A6F7-E2290E39F2FC</td>\n",
       "      <td>2017-07-05</td>\n",
       "      <td>[O71.89]</td>\n",
       "      <td>[3.0]</td>\n",
       "    </tr>\n",
       "  </tbody>\n",
       "</table>\n",
       "</div>"
      ],
      "text/plain": [
       "                              person_id Hospital_visit_date diagnosis_code  \\\n",
       "0  0000FA93-BB4B-44AE-B8C0-A136AB196B9F          2013-12-06          [860]   \n",
       "1  000168EA-BC74-4035-B5A6-C92163F8CE62          2016-11-22        [Z37.0]   \n",
       "2  0003E5CA-4E3A-4D93-AEC2-12B62404D098          2017-09-22          [nan]   \n",
       "3  000D4C90-4826-4B44-A6F7-E2290E39F2FC          2016-06-03        [O70.0]   \n",
       "4  000D4C90-4826-4B44-A6F7-E2290E39F2FC          2017-07-05       [O71.89]   \n",
       "\n",
       "  diagnosis_sequence  \n",
       "0              [4.0]  \n",
       "1              [2.0]  \n",
       "2              [nan]  \n",
       "3              [3.0]  \n",
       "4              [3.0]  "
      ]
     },
     "execution_count": 278,
     "metadata": {},
     "output_type": "execute_result"
    }
   ],
   "source": [
    "df_diagnosis_ip.head()"
   ]
  },
  {
   "cell_type": "code",
   "execution_count": 279,
   "metadata": {},
   "outputs": [
    {
     "data": {
      "text/plain": [
       "(29107, 4)"
      ]
     },
     "execution_count": 279,
     "metadata": {},
     "output_type": "execute_result"
    }
   ],
   "source": [
    "df_diagnosis_ip.shape"
   ]
  },
  {
   "cell_type": "code",
   "execution_count": 280,
   "metadata": {},
   "outputs": [],
   "source": [
    "df_diagnosis_ip.to_csv('data/readmission_diagnosis_ip.csv', index = False)"
   ]
  },
  {
   "cell_type": "markdown",
   "metadata": {},
   "source": [
    "## Find future/previous admissions (ER to ER)"
   ]
  },
  {
   "cell_type": "code",
   "execution_count": 67,
   "metadata": {},
   "outputs": [
    {
     "data": {
      "text/plain": [
       "(198314, 21)"
      ]
     },
     "execution_count": 67,
     "metadata": {},
     "output_type": "execute_result"
    }
   ],
   "source": [
    "df_clean_er = df_clean[df_clean['encounter_type'] == 'Emergency Room'].drop_duplicates(subset=['person_id','Hospital_visit_date']).drop(['diagnosis_code','diagnosis_sequence','dianosis_description'],axis = 1)\n",
    "df_clean_er.shape"
   ]
  },
  {
   "cell_type": "code",
   "execution_count": 68,
   "metadata": {},
   "outputs": [],
   "source": [
    "##Shift time\n",
    "df_clean_er[\"encounter_next\"] = df_clean_er[\"encounter_type\"].shift(-1)\n",
    "df_clean_er[\"Hospital_visit_next\"] = df_clean_er[\"Hospital_visit_date\"].shift(-1)\n",
    "df_clean_er[\"person_id_next\"] = df_clean_er[\"person_id\"].shift(-1)\n",
    "\n",
    "df_clean_er[\"encounter_prev\"] = df_clean_er[\"encounter_type\"].shift(1)\n",
    "df_clean_er[\"Hospital_visit_prev\"] = df_clean_er[\"discharge_date\"].shift(1)\n",
    "df_clean_er[\"person_id_prev\"] = df_clean_er[\"person_id\"].shift(1)"
   ]
  },
  {
   "cell_type": "code",
   "execution_count": 69,
   "metadata": {},
   "outputs": [],
   "source": [
    "df_clean_er['encounter_prev'] = df_clean_er.apply(get_encounter_prev,axis =1)\n",
    "df_clean_er['Hospital_visit_prev'] = df_clean_er.apply(get_hospital_prev,axis =1)\n",
    "df_clean_er['encounter_next'] = df_clean_er.apply(get_encounter_next,axis =1)\n",
    "df_clean_er['Hospital_visit_next'] = df_clean_er.apply(get_hospital_next,axis =1)"
   ]
  },
  {
   "cell_type": "code",
   "execution_count": 70,
   "metadata": {},
   "outputs": [],
   "source": [
    "##Get interval from last INPATIENT visit\n",
    "df_clean_er['interval'] = df_clean_er.apply(get_interval,axis =1)"
   ]
  },
  {
   "cell_type": "code",
   "execution_count": 71,
   "metadata": {},
   "outputs": [],
   "source": [
    "##Label next INPAITIENT admission and interval\n",
    "df_clean_er[\"Future_ER\"]=df_clean_er.apply(future_er, axis=1)"
   ]
  },
  {
   "cell_type": "code",
   "execution_count": 72,
   "metadata": {},
   "outputs": [
    {
     "data": {
      "text/plain": [
       ">30     103411\n",
       "<=30     62389\n",
       "NO       32514\n",
       "Name: Future_ER, dtype: int64"
      ]
     },
     "execution_count": 72,
     "metadata": {},
     "output_type": "execute_result"
    }
   ],
   "source": [
    "df_clean_er[\"Future_ER\"].value_counts()"
   ]
  },
  {
   "cell_type": "code",
   "execution_count": 73,
   "metadata": {},
   "outputs": [
    {
     "data": {
      "text/html": [
       "<div>\n",
       "<style scoped>\n",
       "    .dataframe tbody tr th:only-of-type {\n",
       "        vertical-align: middle;\n",
       "    }\n",
       "\n",
       "    .dataframe tbody tr th {\n",
       "        vertical-align: top;\n",
       "    }\n",
       "\n",
       "    .dataframe thead th {\n",
       "        text-align: right;\n",
       "    }\n",
       "</style>\n",
       "<table border=\"1\" class=\"dataframe\">\n",
       "  <thead>\n",
       "    <tr style=\"text-align: right;\">\n",
       "      <th></th>\n",
       "      <th>person_id</th>\n",
       "      <th>Age_at_visit</th>\n",
       "      <th>patient_city</th>\n",
       "      <th>patient_county</th>\n",
       "      <th>patient_zipcode</th>\n",
       "      <th>hospital_poc</th>\n",
       "      <th>Hospital_visit_date</th>\n",
       "      <th>discharge_date</th>\n",
       "      <th>encounter_type</th>\n",
       "      <th>payor_name</th>\n",
       "      <th>...</th>\n",
       "      <th>LACE E score</th>\n",
       "      <th>Total LACE score</th>\n",
       "      <th>encounter_next</th>\n",
       "      <th>Hospital_visit_next</th>\n",
       "      <th>person_id_next</th>\n",
       "      <th>encounter_prev</th>\n",
       "      <th>Hospital_visit_prev</th>\n",
       "      <th>person_id_prev</th>\n",
       "      <th>interval</th>\n",
       "      <th>Future_ER</th>\n",
       "    </tr>\n",
       "  </thead>\n",
       "  <tbody>\n",
       "    <tr>\n",
       "      <th>1</th>\n",
       "      <td>0000FA93-BB4B-44AE-B8C0-A136AB196B9F</td>\n",
       "      <td>40</td>\n",
       "      <td>AUSTIN</td>\n",
       "      <td>Travis</td>\n",
       "      <td>78754</td>\n",
       "      <td>Brackenridge Hospital</td>\n",
       "      <td>2017-05-05</td>\n",
       "      <td>2017-05-05 14:23:00</td>\n",
       "      <td>Emergency Room</td>\n",
       "      <td>Self Pay_SFS</td>\n",
       "      <td>...</td>\n",
       "      <td>1</td>\n",
       "      <td>1</td>\n",
       "      <td>NA</td>\n",
       "      <td>NA</td>\n",
       "      <td>000168EA-BC74-4035-B5A6-C92163F8CE62</td>\n",
       "      <td>NA</td>\n",
       "      <td>NA</td>\n",
       "      <td>NaN</td>\n",
       "      <td>NA</td>\n",
       "      <td>NO</td>\n",
       "    </tr>\n",
       "    <tr>\n",
       "      <th>6</th>\n",
       "      <td>000168EA-BC74-4035-B5A6-C92163F8CE62</td>\n",
       "      <td>23</td>\n",
       "      <td>Austin</td>\n",
       "      <td>Travis</td>\n",
       "      <td>78744</td>\n",
       "      <td>Seton Southwest</td>\n",
       "      <td>2017-03-12</td>\n",
       "      <td>2017-03-12 00:00:00</td>\n",
       "      <td>Emergency Room</td>\n",
       "      <td>Medicaid</td>\n",
       "      <td>...</td>\n",
       "      <td>2</td>\n",
       "      <td>5</td>\n",
       "      <td>Emergency Room</td>\n",
       "      <td>2017-03-18 00:00:00</td>\n",
       "      <td>000168EA-BC74-4035-B5A6-C92163F8CE62</td>\n",
       "      <td>NA</td>\n",
       "      <td>NA</td>\n",
       "      <td>0000FA93-BB4B-44AE-B8C0-A136AB196B9F</td>\n",
       "      <td>NA</td>\n",
       "      <td>&lt;=30</td>\n",
       "    </tr>\n",
       "    <tr>\n",
       "      <th>7</th>\n",
       "      <td>000168EA-BC74-4035-B5A6-C92163F8CE62</td>\n",
       "      <td>23</td>\n",
       "      <td>Austin</td>\n",
       "      <td>Travis</td>\n",
       "      <td>78744</td>\n",
       "      <td>Seton Southwest</td>\n",
       "      <td>2017-03-18</td>\n",
       "      <td>2017-03-18 00:00:00</td>\n",
       "      <td>Emergency Room</td>\n",
       "      <td>Medicaid</td>\n",
       "      <td>...</td>\n",
       "      <td>2</td>\n",
       "      <td>7</td>\n",
       "      <td>NA</td>\n",
       "      <td>NA</td>\n",
       "      <td>0002D337-B012-40F4-90B1-51E257E2E13C</td>\n",
       "      <td>Emergency Room</td>\n",
       "      <td>2017-03-12 00:00:00</td>\n",
       "      <td>000168EA-BC74-4035-B5A6-C92163F8CE62</td>\n",
       "      <td>6</td>\n",
       "      <td>NO</td>\n",
       "    </tr>\n",
       "    <tr>\n",
       "      <th>11</th>\n",
       "      <td>0002D337-B012-40F4-90B1-51E257E2E13C</td>\n",
       "      <td>26</td>\n",
       "      <td>DALE</td>\n",
       "      <td>Caldwell</td>\n",
       "      <td>78616</td>\n",
       "      <td>St. Davids South Austin Medical Center</td>\n",
       "      <td>2013-09-16</td>\n",
       "      <td>2013-09-16 19:42:00</td>\n",
       "      <td>Emergency Room</td>\n",
       "      <td>Self Pay &amp; SFS</td>\n",
       "      <td>...</td>\n",
       "      <td>3</td>\n",
       "      <td>3</td>\n",
       "      <td>Emergency Room</td>\n",
       "      <td>2014-01-30 00:00:00</td>\n",
       "      <td>0002D337-B012-40F4-90B1-51E257E2E13C</td>\n",
       "      <td>NA</td>\n",
       "      <td>NA</td>\n",
       "      <td>000168EA-BC74-4035-B5A6-C92163F8CE62</td>\n",
       "      <td>NA</td>\n",
       "      <td>&gt;30</td>\n",
       "    </tr>\n",
       "    <tr>\n",
       "      <th>13</th>\n",
       "      <td>0002D337-B012-40F4-90B1-51E257E2E13C</td>\n",
       "      <td>27</td>\n",
       "      <td>DALE</td>\n",
       "      <td>Caldwell</td>\n",
       "      <td>78616</td>\n",
       "      <td>St. Davids South Austin Medical Center</td>\n",
       "      <td>2014-01-30</td>\n",
       "      <td>2014-01-30 15:40:00</td>\n",
       "      <td>Emergency Room</td>\n",
       "      <td>Self Pay &amp; SFS</td>\n",
       "      <td>...</td>\n",
       "      <td>3</td>\n",
       "      <td>3</td>\n",
       "      <td>Emergency Room</td>\n",
       "      <td>2014-04-22 00:00:00</td>\n",
       "      <td>0002D337-B012-40F4-90B1-51E257E2E13C</td>\n",
       "      <td>Emergency Room</td>\n",
       "      <td>2013-09-16 19:42:00</td>\n",
       "      <td>0002D337-B012-40F4-90B1-51E257E2E13C</td>\n",
       "      <td>135</td>\n",
       "      <td>&gt;30</td>\n",
       "    </tr>\n",
       "  </tbody>\n",
       "</table>\n",
       "<p>5 rows × 29 columns</p>\n",
       "</div>"
      ],
      "text/plain": [
       "                               person_id  Age_at_visit patient_city  \\\n",
       "1   0000FA93-BB4B-44AE-B8C0-A136AB196B9F            40       AUSTIN   \n",
       "6   000168EA-BC74-4035-B5A6-C92163F8CE62            23       Austin   \n",
       "7   000168EA-BC74-4035-B5A6-C92163F8CE62            23       Austin   \n",
       "11  0002D337-B012-40F4-90B1-51E257E2E13C            26         DALE   \n",
       "13  0002D337-B012-40F4-90B1-51E257E2E13C            27         DALE   \n",
       "\n",
       "   patient_county  patient_zipcode                            hospital_poc  \\\n",
       "1          Travis            78754                   Brackenridge Hospital   \n",
       "6          Travis            78744                         Seton Southwest   \n",
       "7          Travis            78744                         Seton Southwest   \n",
       "11       Caldwell            78616  St. Davids South Austin Medical Center   \n",
       "13       Caldwell            78616  St. Davids South Austin Medical Center   \n",
       "\n",
       "   Hospital_visit_date      discharge_date  encounter_type      payor_name  \\\n",
       "1           2017-05-05 2017-05-05 14:23:00  Emergency Room    Self Pay_SFS   \n",
       "6           2017-03-12 2017-03-12 00:00:00  Emergency Room        Medicaid   \n",
       "7           2017-03-18 2017-03-18 00:00:00  Emergency Room        Medicaid   \n",
       "11          2013-09-16 2013-09-16 19:42:00  Emergency Room  Self Pay & SFS   \n",
       "13          2014-01-30 2014-01-30 15:40:00  Emergency Room  Self Pay & SFS   \n",
       "\n",
       "      ...     LACE E score Total LACE score  encounter_next  \\\n",
       "1     ...                1                1              NA   \n",
       "6     ...                2                5  Emergency Room   \n",
       "7     ...                2                7              NA   \n",
       "11    ...                3                3  Emergency Room   \n",
       "13    ...                3                3  Emergency Room   \n",
       "\n",
       "    Hospital_visit_next                        person_id_next  encounter_prev  \\\n",
       "1                    NA  000168EA-BC74-4035-B5A6-C92163F8CE62              NA   \n",
       "6   2017-03-18 00:00:00  000168EA-BC74-4035-B5A6-C92163F8CE62              NA   \n",
       "7                    NA  0002D337-B012-40F4-90B1-51E257E2E13C  Emergency Room   \n",
       "11  2014-01-30 00:00:00  0002D337-B012-40F4-90B1-51E257E2E13C              NA   \n",
       "13  2014-04-22 00:00:00  0002D337-B012-40F4-90B1-51E257E2E13C  Emergency Room   \n",
       "\n",
       "    Hospital_visit_prev                        person_id_prev  interval  \\\n",
       "1                    NA                                   NaN        NA   \n",
       "6                    NA  0000FA93-BB4B-44AE-B8C0-A136AB196B9F        NA   \n",
       "7   2017-03-12 00:00:00  000168EA-BC74-4035-B5A6-C92163F8CE62         6   \n",
       "11                   NA  000168EA-BC74-4035-B5A6-C92163F8CE62        NA   \n",
       "13  2013-09-16 19:42:00  0002D337-B012-40F4-90B1-51E257E2E13C       135   \n",
       "\n",
       "    Future_ER  \n",
       "1          NO  \n",
       "6        <=30  \n",
       "7          NO  \n",
       "11        >30  \n",
       "13        >30  \n",
       "\n",
       "[5 rows x 29 columns]"
      ]
     },
     "execution_count": 73,
     "metadata": {},
     "output_type": "execute_result"
    }
   ],
   "source": [
    "df_clean_er.head()"
   ]
  },
  {
   "cell_type": "code",
   "execution_count": 74,
   "metadata": {},
   "outputs": [],
   "source": [
    "df_clean_er = df_clean_er.merge(df_clean_same_date.reset_index(), on = ['person_id','Hospital_visit_date','encounter_type'], how = 'left')"
   ]
  },
  {
   "cell_type": "code",
   "execution_count": 75,
   "metadata": {},
   "outputs": [
    {
     "data": {
      "text/plain": [
       "(198314, 32)"
      ]
     },
     "execution_count": 75,
     "metadata": {},
     "output_type": "execute_result"
    }
   ],
   "source": [
    "df_clean_er.shape"
   ]
  },
  {
   "cell_type": "code",
   "execution_count": 76,
   "metadata": {},
   "outputs": [],
   "source": [
    "df_clean_er.to_csv('data/readmission_er.csv', index = False)"
   ]
  },
  {
   "cell_type": "markdown",
   "metadata": {},
   "source": [
    "## Create new table for diagnosis (ER)"
   ]
  },
  {
   "cell_type": "code",
   "execution_count": 78,
   "metadata": {},
   "outputs": [],
   "source": [
    "df_diagnosis_code = df_clean[df_clean['encounter_type'] == 'Emergency Room'].groupby(['person_id','Hospital_visit_date'])['diagnosis_code'].apply(list).reset_index()\n",
    "df_diagnosis_seq = df_clean[df_clean['encounter_type'] == 'Emergency Room'].groupby(['person_id','Hospital_visit_date'])['diagnosis_sequence'].apply(list).reset_index()"
   ]
  },
  {
   "cell_type": "code",
   "execution_count": 79,
   "metadata": {},
   "outputs": [],
   "source": [
    "df_diagnosis_er = df_diagnosis_code.merge(df_diagnosis_seq, on = ['person_id','Hospital_visit_date'])"
   ]
  },
  {
   "cell_type": "code",
   "execution_count": 80,
   "metadata": {},
   "outputs": [
    {
     "data": {
      "text/html": [
       "<div>\n",
       "<style scoped>\n",
       "    .dataframe tbody tr th:only-of-type {\n",
       "        vertical-align: middle;\n",
       "    }\n",
       "\n",
       "    .dataframe tbody tr th {\n",
       "        vertical-align: top;\n",
       "    }\n",
       "\n",
       "    .dataframe thead th {\n",
       "        text-align: right;\n",
       "    }\n",
       "</style>\n",
       "<table border=\"1\" class=\"dataframe\">\n",
       "  <thead>\n",
       "    <tr style=\"text-align: right;\">\n",
       "      <th></th>\n",
       "      <th>person_id</th>\n",
       "      <th>Hospital_visit_date</th>\n",
       "      <th>diagnosis_code</th>\n",
       "      <th>diagnosis_sequence</th>\n",
       "    </tr>\n",
       "  </thead>\n",
       "  <tbody>\n",
       "    <tr>\n",
       "      <th>0</th>\n",
       "      <td>0000FA93-BB4B-44AE-B8C0-A136AB196B9F</td>\n",
       "      <td>2017-05-05</td>\n",
       "      <td>[R42]</td>\n",
       "      <td>[2.0]</td>\n",
       "    </tr>\n",
       "    <tr>\n",
       "      <th>1</th>\n",
       "      <td>000168EA-BC74-4035-B5A6-C92163F8CE62</td>\n",
       "      <td>2017-03-12</td>\n",
       "      <td>[L53.9]</td>\n",
       "      <td>[3.0]</td>\n",
       "    </tr>\n",
       "    <tr>\n",
       "      <th>2</th>\n",
       "      <td>000168EA-BC74-4035-B5A6-C92163F8CE62</td>\n",
       "      <td>2017-03-18</td>\n",
       "      <td>[G89.18]</td>\n",
       "      <td>[1.0]</td>\n",
       "    </tr>\n",
       "    <tr>\n",
       "      <th>3</th>\n",
       "      <td>0002D337-B012-40F4-90B1-51E257E2E13C</td>\n",
       "      <td>2013-09-16</td>\n",
       "      <td>[786.52]</td>\n",
       "      <td>[1.0]</td>\n",
       "    </tr>\n",
       "    <tr>\n",
       "      <th>4</th>\n",
       "      <td>0002D337-B012-40F4-90B1-51E257E2E13C</td>\n",
       "      <td>2014-01-30</td>\n",
       "      <td>[789.02]</td>\n",
       "      <td>[1.0]</td>\n",
       "    </tr>\n",
       "  </tbody>\n",
       "</table>\n",
       "</div>"
      ],
      "text/plain": [
       "                              person_id Hospital_visit_date diagnosis_code  \\\n",
       "0  0000FA93-BB4B-44AE-B8C0-A136AB196B9F          2017-05-05          [R42]   \n",
       "1  000168EA-BC74-4035-B5A6-C92163F8CE62          2017-03-12        [L53.9]   \n",
       "2  000168EA-BC74-4035-B5A6-C92163F8CE62          2017-03-18       [G89.18]   \n",
       "3  0002D337-B012-40F4-90B1-51E257E2E13C          2013-09-16       [786.52]   \n",
       "4  0002D337-B012-40F4-90B1-51E257E2E13C          2014-01-30       [789.02]   \n",
       "\n",
       "  diagnosis_sequence  \n",
       "0              [2.0]  \n",
       "1              [3.0]  \n",
       "2              [1.0]  \n",
       "3              [1.0]  \n",
       "4              [1.0]  "
      ]
     },
     "execution_count": 80,
     "metadata": {},
     "output_type": "execute_result"
    }
   ],
   "source": [
    "df_diagnosis_er.head()"
   ]
  },
  {
   "cell_type": "code",
   "execution_count": 81,
   "metadata": {},
   "outputs": [],
   "source": [
    "df_diagnosis_er.to_csv('data/readmission_diagnosis_er.csv', index = False)"
   ]
  },
  {
   "cell_type": "code",
   "execution_count": 82,
   "metadata": {},
   "outputs": [
    {
     "data": {
      "text/plain": [
       "(198314, 4)"
      ]
     },
     "execution_count": 82,
     "metadata": {},
     "output_type": "execute_result"
    }
   ],
   "source": [
    "df_diagnosis_er.shape"
   ]
  },
  {
   "cell_type": "markdown",
   "metadata": {},
   "source": [
    "## icd9 to icd10 crosswalk"
   ]
  },
  {
   "cell_type": "code",
   "execution_count": 83,
   "metadata": {},
   "outputs": [],
   "source": [
    "df_crosswalk = pd.read_csv('data/icd9_icd10_crosswalk_with_ccs.csv')"
   ]
  },
  {
   "cell_type": "code",
   "execution_count": 84,
   "metadata": {
    "scrolled": true
   },
   "outputs": [
    {
     "data": {
      "text/html": [
       "<div>\n",
       "<style scoped>\n",
       "    .dataframe tbody tr th:only-of-type {\n",
       "        vertical-align: middle;\n",
       "    }\n",
       "\n",
       "    .dataframe tbody tr th {\n",
       "        vertical-align: top;\n",
       "    }\n",
       "\n",
       "    .dataframe thead th {\n",
       "        text-align: right;\n",
       "    }\n",
       "</style>\n",
       "<table border=\"1\" class=\"dataframe\">\n",
       "  <thead>\n",
       "    <tr style=\"text-align: right;\">\n",
       "      <th></th>\n",
       "      <th>dx_cd9</th>\n",
       "      <th>dx_cd9_wo_dec</th>\n",
       "      <th>dx_cd9_description</th>\n",
       "      <th>dx_cd10</th>\n",
       "      <th>dx_cd10_wo_dec</th>\n",
       "      <th>flags</th>\n",
       "      <th>ccs10_category</th>\n",
       "      <th>dx_cd10_description</th>\n",
       "      <th>ccs10_category_description</th>\n",
       "      <th>ccs9_category</th>\n",
       "      <th>ccs9_category_description</th>\n",
       "    </tr>\n",
       "  </thead>\n",
       "  <tbody>\n",
       "    <tr>\n",
       "      <th>0</th>\n",
       "      <td>001</td>\n",
       "      <td>001</td>\n",
       "      <td>CHOLERA</td>\n",
       "      <td>A00</td>\n",
       "      <td>A00</td>\n",
       "      <td>NaN</td>\n",
       "      <td>135.0</td>\n",
       "      <td>Cholera</td>\n",
       "      <td>Intestinal Infection</td>\n",
       "      <td>135.0</td>\n",
       "      <td>Intestinal Infection</td>\n",
       "    </tr>\n",
       "    <tr>\n",
       "      <th>1</th>\n",
       "      <td>001.0</td>\n",
       "      <td>0010</td>\n",
       "      <td>CHOLERA DUE TO VIBRIO CHOLERAE</td>\n",
       "      <td>A00.0</td>\n",
       "      <td>A000</td>\n",
       "      <td>0.0</td>\n",
       "      <td>135.0</td>\n",
       "      <td>Cholera due to Vibrio cholerae 01, biovar chol...</td>\n",
       "      <td>Intestinal Infection</td>\n",
       "      <td>135.0</td>\n",
       "      <td>Intestinal Infection</td>\n",
       "    </tr>\n",
       "    <tr>\n",
       "      <th>2</th>\n",
       "      <td>001.1</td>\n",
       "      <td>0011</td>\n",
       "      <td>CHOLERA DUE TO VIBRIO CHOLERAE EL TOR</td>\n",
       "      <td>A00.1</td>\n",
       "      <td>A001</td>\n",
       "      <td>0.0</td>\n",
       "      <td>135.0</td>\n",
       "      <td>Cholera due to Vibrio cholerae 01, biovar eltor</td>\n",
       "      <td>Intestinal Infection</td>\n",
       "      <td>135.0</td>\n",
       "      <td>Intestinal Infection</td>\n",
       "    </tr>\n",
       "    <tr>\n",
       "      <th>3</th>\n",
       "      <td>001.9</td>\n",
       "      <td>0019</td>\n",
       "      <td>CHOLERA, UNSPECIFIED</td>\n",
       "      <td>A00.9</td>\n",
       "      <td>A009</td>\n",
       "      <td>0.0</td>\n",
       "      <td>135.0</td>\n",
       "      <td>Cholera, unspecified</td>\n",
       "      <td>Intestinal Infection</td>\n",
       "      <td>135.0</td>\n",
       "      <td>Intestinal Infection</td>\n",
       "    </tr>\n",
       "    <tr>\n",
       "      <th>4</th>\n",
       "      <td>002</td>\n",
       "      <td>002</td>\n",
       "      <td>TYPHOID AND PARATYPHOID FEVERS</td>\n",
       "      <td>A01</td>\n",
       "      <td>A01</td>\n",
       "      <td>NaN</td>\n",
       "      <td>135.0</td>\n",
       "      <td>Typhoid and paratyphoid fevers</td>\n",
       "      <td>Intestinal Infection</td>\n",
       "      <td>135.0</td>\n",
       "      <td>Intestinal Infection</td>\n",
       "    </tr>\n",
       "  </tbody>\n",
       "</table>\n",
       "</div>"
      ],
      "text/plain": [
       "  dx_cd9 dx_cd9_wo_dec                     dx_cd9_description dx_cd10  \\\n",
       "0    001           001                                CHOLERA     A00   \n",
       "1  001.0          0010         CHOLERA DUE TO VIBRIO CHOLERAE   A00.0   \n",
       "2  001.1          0011  CHOLERA DUE TO VIBRIO CHOLERAE EL TOR   A00.1   \n",
       "3  001.9          0019                   CHOLERA, UNSPECIFIED   A00.9   \n",
       "4    002           002         TYPHOID AND PARATYPHOID FEVERS     A01   \n",
       "\n",
       "  dx_cd10_wo_dec  flags  ccs10_category  \\\n",
       "0            A00    NaN           135.0   \n",
       "1           A000    0.0           135.0   \n",
       "2           A001    0.0           135.0   \n",
       "3           A009    0.0           135.0   \n",
       "4            A01    NaN           135.0   \n",
       "\n",
       "                                 dx_cd10_description  \\\n",
       "0                                            Cholera   \n",
       "1  Cholera due to Vibrio cholerae 01, biovar chol...   \n",
       "2    Cholera due to Vibrio cholerae 01, biovar eltor   \n",
       "3                               Cholera, unspecified   \n",
       "4                     Typhoid and paratyphoid fevers   \n",
       "\n",
       "  ccs10_category_description  ccs9_category ccs9_category_description  \n",
       "0       Intestinal Infection          135.0      Intestinal Infection  \n",
       "1       Intestinal Infection          135.0      Intestinal Infection  \n",
       "2       Intestinal Infection          135.0      Intestinal Infection  \n",
       "3       Intestinal Infection          135.0      Intestinal Infection  \n",
       "4       Intestinal Infection          135.0      Intestinal Infection  "
      ]
     },
     "execution_count": 84,
     "metadata": {},
     "output_type": "execute_result"
    }
   ],
   "source": [
    "df_crosswalk.head()"
   ]
  },
  {
   "cell_type": "code",
   "execution_count": 85,
   "metadata": {},
   "outputs": [],
   "source": [
    "df_crosswalk_clean = df_crosswalk[['dx_cd9','dx_cd10','ccs10_category']]"
   ]
  },
  {
   "cell_type": "code",
   "execution_count": 86,
   "metadata": {},
   "outputs": [],
   "source": [
    "df_crosswalk_code = df_crosswalk_clean.groupby('dx_cd9')['dx_cd10'].apply(list).reset_index()\n",
    "df_crosswalk_ccs10cat = df_crosswalk_clean.groupby(['dx_cd9'])[['ccs10_category']].agg(lambda x: stats.mode(x)[0][0]).reset_index()"
   ]
  },
  {
   "cell_type": "code",
   "execution_count": 87,
   "metadata": {},
   "outputs": [],
   "source": [
    "df_crosswalk_icd9ccs = df_crosswalk_code.merge(df_crosswalk_ccs10cat, on = 'dx_cd9')"
   ]
  },
  {
   "cell_type": "code",
   "execution_count": 88,
   "metadata": {
    "scrolled": false
   },
   "outputs": [
    {
     "data": {
      "text/html": [
       "<div>\n",
       "<style scoped>\n",
       "    .dataframe tbody tr th:only-of-type {\n",
       "        vertical-align: middle;\n",
       "    }\n",
       "\n",
       "    .dataframe tbody tr th {\n",
       "        vertical-align: top;\n",
       "    }\n",
       "\n",
       "    .dataframe thead th {\n",
       "        text-align: right;\n",
       "    }\n",
       "</style>\n",
       "<table border=\"1\" class=\"dataframe\">\n",
       "  <thead>\n",
       "    <tr style=\"text-align: right;\">\n",
       "      <th></th>\n",
       "      <th>dx_cd9</th>\n",
       "      <th>dx_cd10</th>\n",
       "      <th>ccs10_category</th>\n",
       "    </tr>\n",
       "  </thead>\n",
       "  <tbody>\n",
       "    <tr>\n",
       "      <th>0</th>\n",
       "      <td>001</td>\n",
       "      <td>[A00]</td>\n",
       "      <td>135.0</td>\n",
       "    </tr>\n",
       "    <tr>\n",
       "      <th>1</th>\n",
       "      <td>001.0</td>\n",
       "      <td>[A00.0]</td>\n",
       "      <td>135.0</td>\n",
       "    </tr>\n",
       "    <tr>\n",
       "      <th>2</th>\n",
       "      <td>001.1</td>\n",
       "      <td>[A00.1]</td>\n",
       "      <td>135.0</td>\n",
       "    </tr>\n",
       "    <tr>\n",
       "      <th>3</th>\n",
       "      <td>001.9</td>\n",
       "      <td>[A00.9]</td>\n",
       "      <td>135.0</td>\n",
       "    </tr>\n",
       "    <tr>\n",
       "      <th>4</th>\n",
       "      <td>002</td>\n",
       "      <td>[A01]</td>\n",
       "      <td>135.0</td>\n",
       "    </tr>\n",
       "  </tbody>\n",
       "</table>\n",
       "</div>"
      ],
      "text/plain": [
       "  dx_cd9  dx_cd10  ccs10_category\n",
       "0    001    [A00]           135.0\n",
       "1  001.0  [A00.0]           135.0\n",
       "2  001.1  [A00.1]           135.0\n",
       "3  001.9  [A00.9]           135.0\n",
       "4    002    [A01]           135.0"
      ]
     },
     "execution_count": 88,
     "metadata": {},
     "output_type": "execute_result"
    }
   ],
   "source": [
    "df_crosswalk_icd9ccs.head()"
   ]
  },
  {
   "cell_type": "code",
   "execution_count": 89,
   "metadata": {},
   "outputs": [],
   "source": [
    "df_crosswalk_icd10ccs = df_crosswalk_clean[['dx_cd10','ccs10_category']].groupby(['dx_cd10'])[['ccs10_category']].agg(lambda x: stats.mode(x)[0][0]).reset_index()"
   ]
  },
  {
   "cell_type": "code",
   "execution_count": 90,
   "metadata": {},
   "outputs": [
    {
     "data": {
      "text/html": [
       "<div>\n",
       "<style scoped>\n",
       "    .dataframe tbody tr th:only-of-type {\n",
       "        vertical-align: middle;\n",
       "    }\n",
       "\n",
       "    .dataframe tbody tr th {\n",
       "        vertical-align: top;\n",
       "    }\n",
       "\n",
       "    .dataframe thead th {\n",
       "        text-align: right;\n",
       "    }\n",
       "</style>\n",
       "<table border=\"1\" class=\"dataframe\">\n",
       "  <thead>\n",
       "    <tr style=\"text-align: right;\">\n",
       "      <th></th>\n",
       "      <th>dx_cd10</th>\n",
       "      <th>ccs10_category</th>\n",
       "    </tr>\n",
       "  </thead>\n",
       "  <tbody>\n",
       "    <tr>\n",
       "      <th>0</th>\n",
       "      <td>A00</td>\n",
       "      <td>135.0</td>\n",
       "    </tr>\n",
       "    <tr>\n",
       "      <th>1</th>\n",
       "      <td>A00.0</td>\n",
       "      <td>135.0</td>\n",
       "    </tr>\n",
       "    <tr>\n",
       "      <th>2</th>\n",
       "      <td>A00.1</td>\n",
       "      <td>135.0</td>\n",
       "    </tr>\n",
       "    <tr>\n",
       "      <th>3</th>\n",
       "      <td>A00.9</td>\n",
       "      <td>135.0</td>\n",
       "    </tr>\n",
       "    <tr>\n",
       "      <th>4</th>\n",
       "      <td>A01</td>\n",
       "      <td>135.0</td>\n",
       "    </tr>\n",
       "  </tbody>\n",
       "</table>\n",
       "</div>"
      ],
      "text/plain": [
       "  dx_cd10  ccs10_category\n",
       "0     A00           135.0\n",
       "1   A00.0           135.0\n",
       "2   A00.1           135.0\n",
       "3   A00.9           135.0\n",
       "4     A01           135.0"
      ]
     },
     "execution_count": 90,
     "metadata": {},
     "output_type": "execute_result"
    }
   ],
   "source": [
    "df_crosswalk_icd10ccs.head()"
   ]
  },
  {
   "cell_type": "code",
   "execution_count": 91,
   "metadata": {},
   "outputs": [],
   "source": [
    "df_crosswalk_icd9ccs.to_csv('data/icd_crosswalk_icd9ccs.csv', index = False)\n",
    "df_crosswalk_icd10ccs.to_csv('data/icd_crosswalk_icd10ccs.csv', index = False)"
   ]
  },
  {
   "cell_type": "markdown",
   "metadata": {},
   "source": [
    "## A little EDA"
   ]
  },
  {
   "cell_type": "code",
   "execution_count": 92,
   "metadata": {},
   "outputs": [
    {
     "data": {
      "text/plain": [
       "<matplotlib.axes._subplots.AxesSubplot at 0xc63bc269b0>"
      ]
     },
     "execution_count": 92,
     "metadata": {},
     "output_type": "execute_result"
    },
    {
     "data": {
      "image/png": "[encoded data removed]",
      "text/plain": [
       "<matplotlib.figure.Figure at 0xc63ba904e0>"
      ]
     },
     "metadata": {},
     "output_type": "display_data"
    }
   ],
   "source": [
    "df_clean_all[\"Future_ER\"].hist()"
   ]
  },
  {
   "cell_type": "code",
   "execution_count": 93,
   "metadata": {},
   "outputs": [
    {
     "data": {
      "text/plain": [
       "<matplotlib.axes._subplots.AxesSubplot at 0xc63dfce898>"
      ]
     },
     "execution_count": 93,
     "metadata": {},
     "output_type": "execute_result"
    },
    {
     "data": {
      "image/png": "[encoded data removed]",
      "text/plain": [
       "<matplotlib.figure.Figure at 0xc63bc8e518>"
      ]
     },
     "metadata": {},
     "output_type": "display_data"
    }
   ],
   "source": [
    "df_clean_all[\"Future_Inpatient\"].hist() #imbalanced"
   ]
  },
  {
   "cell_type": "code",
   "execution_count": 94,
   "metadata": {},
   "outputs": [
    {
     "data": {
      "text/plain": [
       "<matplotlib.axes._subplots.AxesSubplot at 0xc63e034860>"
      ]
     },
     "execution_count": 94,
     "metadata": {},
     "output_type": "execute_result"
    },
    {
     "data": {
      "image/png": "[encoded data removed]",
      "text/plain": [
       "<matplotlib.figure.Figure at 0xc63e4dba20>"
      ]
     },
     "metadata": {},
     "output_type": "display_data"
    }
   ],
   "source": [
    "df_clean_all[\"patient_city\"].value_counts()[:10].plot('bar') #city name"
   ]
  },
  {
   "cell_type": "code",
   "execution_count": 95,
   "metadata": {},
   "outputs": [
    {
     "data": {
      "text/plain": [
       "<matplotlib.axes._subplots.AxesSubplot at 0xc63e53feb8>"
      ]
     },
     "execution_count": 95,
     "metadata": {},
     "output_type": "execute_result"
    },
    {
     "data": {
      "image/png": "[encoded data removed]",
      "text/plain": [
       "<matplotlib.figure.Figure at 0xc63e517828>"
      ]
     },
     "metadata": {},
     "output_type": "display_data"
    }
   ],
   "source": [
    "df_clean_all[\"patient_county\"].value_counts()[:10].plot('bar') #city name"
   ]
  },
  {
   "cell_type": "code",
   "execution_count": 96,
   "metadata": {},
   "outputs": [
    {
     "data": {
      "text/plain": [
       "<matplotlib.axes._subplots.AxesSubplot at 0xc63e578240>"
      ]
     },
     "execution_count": 96,
     "metadata": {},
     "output_type": "execute_result"
    },
    {
     "data": {
      "image/png": "[encoded data removed]",
      "text/plain": [
       "<matplotlib.figure.Figure at 0xc63f8210b8>"
      ]
     },
     "metadata": {},
     "output_type": "display_data"
    }
   ],
   "source": [
    "df_clean_all[\"Age_at_visit\"].plot(\"hist\")"
   ]
  },
  {
   "cell_type": "code",
   "execution_count": 97,
   "metadata": {},
   "outputs": [
    {
     "data": {
      "text/plain": [
       "<matplotlib.axes._subplots.AxesSubplot at 0xc63f821d68>"
      ]
     },
     "execution_count": 97,
     "metadata": {},
     "output_type": "execute_result"
    },
    {
     "data": {
      "image/png": "[encoded data removed]",
      "text/plain": [
       "<matplotlib.figure.Figure at 0xc63e578eb8>"
      ]
     },
     "metadata": {},
     "output_type": "display_data"
    }
   ],
   "source": [
    "df_clean_all['ethnicity'].value_counts().sort_values(ascending = False)[:10].plot(\"bar\")"
   ]
  },
  {
   "cell_type": "code",
   "execution_count": 98,
   "metadata": {},
   "outputs": [],
   "source": [
    "#fix patient city name issue\n",
    "df_clean_all['patient_city'] = df_clean.patient_city.str.capitalize()"
   ]
  },
  {
   "cell_type": "code",
   "execution_count": 99,
   "metadata": {},
   "outputs": [
    {
     "data": {
      "text/plain": [
       "<matplotlib.axes._subplots.AxesSubplot at 0xc63ba90240>"
      ]
     },
     "execution_count": 99,
     "metadata": {},
     "output_type": "execute_result"
    },
    {
     "data": {
      "image/png": "[encoded data removed]",
      "text/plain": [
       "<matplotlib.figure.Figure at 0xc6418529e8>"
      ]
     },
     "metadata": {},
     "output_type": "display_data"
    }
   ],
   "source": [
    "df_clean_all[\"patient_city\"].value_counts()[:10].plot('bar') #city name"
   ]
  }
 ],
 "metadata": {
  "kernelspec": {
   "display_name": "Python 3",
   "language": "python",
   "name": "python3"
  },
  "language_info": {
   "codemirror_mode": {
    "name": "ipython",
    "version": 3
   },
   "file_extension": ".py",
   "mimetype": "text/x-python",
   "name": "python",
   "nbconvert_exporter": "python",
   "pygments_lexer": "ipython3",
   "version": "3.7.1"
  }
 },
 "nbformat": 4,
 "nbformat_minor": 2
}
