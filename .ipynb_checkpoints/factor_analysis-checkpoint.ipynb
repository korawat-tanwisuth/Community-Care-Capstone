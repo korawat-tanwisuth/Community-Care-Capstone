{
 "cells": [
  {
   "cell_type": "code",
   "execution_count": 1,
   "metadata": {},
   "outputs": [
    {
     "name": "stdout",
     "output_type": "stream",
     "text": [
      "Populating the interactive namespace from numpy and matplotlib\n"
     ]
    }
   ],
   "source": [
    "import pandas as pd\n",
    "import numpy as np\n",
    "import seaborn as sns\n",
    "from scipy import stats\n",
    "from datetime import datetime\n",
    "from itertools import combinations\n",
    "import matplotlib.pyplot as plt\n",
    "import re\n",
    "import warnings\n",
    "warnings.filterwarnings('ignore')\n",
    "%pylab inline"
   ]
  },
  {
   "cell_type": "code",
   "execution_count": null,
   "metadata": {},
   "outputs": [],
   "source": [
    "from sklearn.model_selection import train_test_split, GridSearchCV, StratifiedKFold\n",
    "from sklearn.preprocessing import StandardScaler, MinMaxScaler, OneHotEncoder, LabelEncoder, Imputer, label_binarize, PolynomialFeatures\n",
    "from sklearn.decomposition import FactorAnalysis"
   ]
  },
  {
   "cell_type": "code",
   "execution_count": 13,
   "metadata": {},
   "outputs": [],
   "source": [
    "# Read in readmissions data\n",
    "readmission_all = pd.read_csv('../Data/readmission_all_full.csv')\n",
    "readmission_ip = pd.read_csv('../Data/readmission_ip_full.csv')\n",
    "readmission_er = pd.read_csv('../Data/readmission_er_full.csv')\n",
    "\n",
    "# Read in diagnosis data\n",
    "readmission_diagnosis_all = pd.read_csv('../Data/readmission_diagnosis_all_full.csv')\n",
    "readmission_diagnosis_ip = pd.read_csv('../Data/readmission_diagnosis_ip_full.csv')\n",
    "readmission_diagnosis_er = pd.read_csv('../Data/readmission_diagnosis_er_full.csv')\n",
    "\n",
    "icd9ccs = pd.read_csv('../Data/icd_crosswalk_icd9ccs.csv')\n",
    "icd10ccs = pd.read_csv('../Data/icd_crosswalk_icd10ccs.csv')"
   ]
  }
 ],
 "metadata": {
  "kernelspec": {
   "display_name": "Python 3",
   "language": "python",
   "name": "python3"
  },
  "language_info": {
   "codemirror_mode": {
    "name": "ipython",
    "version": 3
   },
   "file_extension": ".py",
   "mimetype": "text/x-python",
   "name": "python",
   "nbconvert_exporter": "python",
   "pygments_lexer": "ipython3",
   "version": "3.7.1"
  }
 },
 "nbformat": 4,
 "nbformat_minor": 2
}
