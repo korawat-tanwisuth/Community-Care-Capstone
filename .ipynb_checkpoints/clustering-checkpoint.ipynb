{
 "cells": [
  {
   "cell_type": "code",
   "execution_count": 2,
   "metadata": {},
   "outputs": [
    {
     "name": "stdout",
     "output_type": "stream",
     "text": [
      "Populating the interactive namespace from numpy and matplotlib\n"
     ]
    }
   ],
   "source": [
    "import pandas as pd\n",
    "import numpy as np\n",
    "import seaborn as sns\n",
    "from scipy import stats\n",
    "from datetime import datetime\n",
    "from itertools import combinations\n",
    "import matplotlib.pyplot as plt\n",
    "import re\n",
    "import warnings\n",
    "warnings.filterwarnings('ignore')\n",
    "%pylab inline"
   ]
  },
  {
   "cell_type": "code",
   "execution_count": 5,
   "metadata": {},
   "outputs": [],
   "source": [
    "from sklearn.model_selection import train_test_split, GridSearchCV, StratifiedKFold\n",
    "from sklearn.preprocessing import StandardScaler, MinMaxScaler, OneHotEncoder, LabelEncoder, Imputer, label_binarize, PolynomialFeatures\n"
   ]
  },
  {
   "cell_type": "markdown",
   "metadata": {},
   "source": [
    "## Read in Data"
   ]
  },
  {
   "cell_type": "code",
   "execution_count": 18,
   "metadata": {},
   "outputs": [],
   "source": [
    "# Read in readmissions data\n",
    "readmission_all = pd.read_csv('../Data/readmission_all_full.csv')\n",
    "readmission_ip = pd.read_csv('../Data/readmission_ip_full.csv')\n",
    "readmission_er = pd.read_csv('../Data/readmission_er_full.csv')\n",
    "\n",
    "# Read in diagnosis data\n",
    "readmission_diagnosis_all = pd.read_csv('../Data/readmission_diagnosis_all_full.csv')\n",
    "readmission_diagnosis_ip = pd.read_csv('../Data/readmission_diagnosis_ip_full.csv')\n",
    "readmission_diagnosis_er = pd.read_csv('../Data/readmission_diagnosis_er_full.csv')\n",
    "\n",
    "# Read in crosswalks\n",
    "icd9ccs = pd.read_csv('../Data/icd_crosswalk_icd9ccs.csv')\n",
    "icd10ccs = pd.read_csv('../Data/icd_crosswalk_icd10ccs.csv')"
   ]
  },
  {
   "cell_type": "markdown",
   "metadata": {},
   "source": [
    "## Pre-Processing"
   ]
  },
  {
   "cell_type": "code",
   "execution_count": 11,
   "metadata": {
    "scrolled": true
   },
   "outputs": [
    {
     "data": {
      "text/plain": [
       "person_id                          object\n",
       "Age_at_visit                        int64\n",
       "patient_city                       object\n",
       "patient_county                     object\n",
       "patient_zipcode                     int64\n",
       "hospital_poc                       object\n",
       "Hospital_visit_date                object\n",
       "discharge_date                     object\n",
       "encounter_type                     object\n",
       "payor_name                         object\n",
       "last community care location       object\n",
       "last community care visit date     object\n",
       "ethnicity                          object\n",
       "language                           object\n",
       "uds ethnicity                      object\n",
       "uds race                           object\n",
       "uds homless                        object\n",
       "LACE L score                        int64\n",
       "LACE A score                        int64\n",
       "LACE E score                        int64\n",
       "Total LACE score                    int64\n",
       "admission_count                     int64\n",
       "encounter_prev_all                 object\n",
       "Hospital_visit_prev_all            object\n",
       "hospital_poc_prev_all              object\n",
       "person_id_prev_all                 object\n",
       "interval_prev_all                 float64\n",
       "transfer_in_ER                      int64\n",
       "transfer_in_IP                      int64\n",
       "encounter_next                     object\n",
       "Hospital_visit_next                object\n",
       "hospital_poc_next                  object\n",
       "person_id_next                     object\n",
       "encounter_prev                     object\n",
       "Hospital_visit_prev                object\n",
       "hospital_poc_prev                  object\n",
       "person_id_prev                     object\n",
       "interval_prev                     float64\n",
       "interval_next                     float64\n",
       "transfer_out_IP                     int64\n",
       "Future_Inpatient                   object\n",
       "past_visits_total                 float64\n",
       "past_visits_ER                    float64\n",
       "past_visits_IP                    float64\n",
       "income                            float64\n",
       "education                         float64\n",
       "poverty                           float64\n",
       "diagnosis_code                     object\n",
       "diagnosis_sequence                 object\n",
       "ccs10_category                     object\n",
       "ccs10_category_top                float64\n",
       "dtype: object"
      ]
     },
     "execution_count": 11,
     "metadata": {},
     "output_type": "execute_result"
    }
   ],
   "source": [
    "# Look at data types of variables\n",
    "readmission_ip.dtypes"
   ]
  },
  {
   "cell_type": "markdown",
   "metadata": {},
   "source": [
    "### Select Features for Modeling"
   ]
  },
  {
   "cell_type": "code",
   "execution_count": null,
   "metadata": {},
   "outputs": [],
   "source": [
    "readmission_ip = readmission_ip[['person_id','Age_at_visit','patient_city','patient_county','hospital_poc','payor_name','last community care location','ethnicity','language','uds ethnicity','uds race','uds homless','LACE L score','LACE A score','LACE E score','Total LACE score','transfer_in_ER','transfer_in_IP','interval_prev','interval_prev_all','past_visits_ER','past_visits_IP','income','education','poverty','ccs10_category_top','Future_Inpatient']]"
   ]
  },
  {
   "cell_type": "markdown",
   "metadata": {},
   "source": [
    "### Numeric Variables"
   ]
  },
  {
   "cell_type": "code",
   "execution_count": 19,
   "metadata": {
    "scrolled": false
   },
   "outputs": [
    {
     "data": {
      "text/plain": [
       "['Age_at_visit',\n",
       " 'patient_zipcode',\n",
       " 'LACE L score',\n",
       " 'LACE A score',\n",
       " 'LACE E score',\n",
       " 'Total LACE score',\n",
       " 'admission_count',\n",
       " 'interval_prev_all',\n",
       " 'transfer_in_ER',\n",
       " 'transfer_in_IP',\n",
       " 'interval_prev',\n",
       " 'interval_next',\n",
       " 'transfer_out_IP',\n",
       " 'past_visits_total',\n",
       " 'past_visits_ER',\n",
       " 'past_visits_IP',\n",
       " 'income',\n",
       " 'education',\n",
       " 'poverty',\n",
       " 'ccs10_category_top']"
      ]
     },
     "execution_count": 19,
     "metadata": {},
     "output_type": "execute_result"
    }
   ],
   "source": [
    "# Get list of numeric variables\n",
    "num = readmission_ip.select_dtypes(include=[int64, float64]).columns.values.tolist()\n",
    "num"
   ]
  },
  {
   "cell_type": "code",
   "execution_count": 30,
   "metadata": {
    "scrolled": true
   },
   "outputs": [
    {
     "data": {
      "text/plain": [
       "Age_at_visit              0\n",
       "patient_zipcode           0\n",
       "LACE L score              0\n",
       "LACE A score              0\n",
       "LACE E score              0\n",
       "Total LACE score          0\n",
       "admission_count           0\n",
       "interval_prev_all      4175\n",
       "transfer_in_ER            0\n",
       "transfer_in_IP            0\n",
       "interval_prev         12871\n",
       "interval_next         12871\n",
       "transfer_out_IP           0\n",
       "past_visits_total         0\n",
       "past_visits_ER            0\n",
       "past_visits_IP            0\n",
       "income                  412\n",
       "education               412\n",
       "poverty                 412\n",
       "ccs10_category_top     2536\n",
       "dtype: int64"
      ]
     },
     "execution_count": 30,
     "metadata": {},
     "output_type": "execute_result"
    }
   ],
   "source": [
    "# Replace 'NA' with numpy nan\n",
    "readmission_ip['income'] = readmission_ip.income.apply(lambda x: np.nan if x == 'NA' else x)\n",
    "readmission_ip['education'] = readmission_ip.education.apply(lambda x: np.nan if x == 'NA' else x)\n",
    "readmission_ip['poverty'] = readmission_ip.poverty.apply(lambda x: np.nan if x == 'NA' else x)\n",
    "\n",
    "# How many missing values does each numeric variable have?\n",
    "readmission_ip[num].apply(lambda x: x.isnull().sum())"
   ]
  },
  {
   "cell_type": "markdown",
   "metadata": {},
   "source": [
    "We will need to do some imputing for the variables with missing values. However, due to the large number of missing values for the time based variables it may introduce bias and noise if we we "
   ]
  },
  {
   "cell_type": "code",
   "execution_count": 23,
   "metadata": {},
   "outputs": [],
   "source": [
    "# Impute missing values with variable mean\n",
    "imputer = Imputer()\n",
    "X_num_wnull = imputer.fit_transform(readmission_ip[['interval_prev','interval_prev_all', 'interval_next', 'income','education','poverty']])"
   ]
  },
  {
   "cell_type": "code",
   "execution_count": 27,
   "metadata": {},
   "outputs": [],
   "source": [
    "# Store numeric variables without missing values\n",
    "X_num_wonull = np.array(readmission_ip[['Age_at_visit','patient_zipcode', 'LACE L score', 'LACE A score', 'LACE E score', \n",
    "                                              'Total LACE score', 'admission_count', 'transfer_in_ER', 'transfer_in_IP', \n",
    "                                              'transfer_out_IP', 'past_visits_ER','past_visits_IP', 'past_visits_total']])"
   ]
  },
  {
   "cell_type": "code",
   "execution_count": 29,
   "metadata": {},
   "outputs": [],
   "source": [
    "# Concatenate numeric variables back together\n",
    "X_num = np.concatenate((X_num_wonull, X_num_wnull), axis = 1)"
   ]
  },
  {
   "cell_type": "markdown",
   "metadata": {},
   "source": [
    "### Categorical Variables"
   ]
  },
  {
   "cell_type": "code",
   "execution_count": null,
   "metadata": {},
   "outputs": [],
   "source": [
    "cat = readmission_ip.select_dtypes(include=[object]).drop('Future_Inpatient',axis=1).columns.values.tolist()"
   ]
  }
 ],
 "metadata": {
  "kernelspec": {
   "display_name": "Python 3",
   "language": "python",
   "name": "python3"
  },
  "language_info": {
   "codemirror_mode": {
    "name": "ipython",
    "version": 3
   },
   "file_extension": ".py",
   "mimetype": "text/x-python",
   "name": "python",
   "nbconvert_exporter": "python",
   "pygments_lexer": "ipython3",
   "version": "3.7.1"
  }
 },
 "nbformat": 4,
 "nbformat_minor": 2
}
